{
 "cells": [
  {
   "cell_type": "markdown",
   "metadata": {},
   "source": [
    "# Programming for Data Science 2022\n",
    "## Homework Assigment Three\n",
    "\n",
    "Homework Assigment Three focus in the step-by-step implementation of a simple, yet popular, clustering algorithm, the K-Means. Although in most projects you will source algorithms from readily available in implementations found in libraries such as scikit-learn or Keras, in some cases you will need to implement an algorithm yourself. For instance, if such algorithm is not available or if you want to implement a problem-specific modification. In that sense, learning to implement algorithms is an important part of your skillset.\n",
    "\n",
    "Your submission will be graded according to the following guidelines:\n",
    "1. **Execution** (does your program does what is asked from the exercise?\n",
    "2. **Objectivity** (are you using the adequate libraries? are you using a library ... )\n",
    "3. **Readibility** of your code (that includes comments, naming of variables, supporting text, etc ...)\n",
    "\n",
    "In some questions might require that you make critical decisions, or design choices. In such cases, you will be graded according to your ability to justify and support your decisions.\n",
    "\n",
    "<b>Comment your code properly, which includes naming your variables in a meaningful manner. Badly documented code will be penalized.</b>\n",
    "\n",
    "This assignment is to be done in pairs, as in the first one, but remember that **you can't have the same pair as you had in Homeworks 1 and 2**. \n",
    "\n",
    "**Students that are caught cheating will obtain a score of 0 points.** <br>\n",
    "\n",
    "The Homework 3 is worth 30% of your final grade.    \n",
    "\n",
    "The submission package should correspond to a .zip archive (.rar files are not accepted) with the following files:\n",
    "1. Jupyter Notebook with the output of all the cells;\n",
    "2. PDF/HTML print of your Jupyter Notebook (in jupyter go to File -> Download as -> HTML/PDF);\n",
    "3. All text or .csv files exported as part of the exercises. Do not upload the files downloaded/imported as part of the exercises.\n",
    "\n",
    "**Please change the name of the notebook to \"H2.\\<student_1_id\\>_\\<student_2_id\\>.ipynb\", replacing \\<student_id\\> by your student_id.** <br>\n",
    "\n",
    "Submission is done through the respective Moodle activity and only one of the group members has to submit the files. <br>\n",
    "Deadline is the 30th of October at 23:59. <br>\n",
    "A penality of 1 point per day late will be applied to late deliveries. <br>\n",
    "**In this notebook you are allowed to use Pandas and Numpy.**"
   ]
  },
  {
   "cell_type": "markdown",
   "metadata": {},
   "source": [
    "## Group Registration\n",
    "\n",
    "Edit this cell with the information of the authors of this submission.\n",
    "\n",
    "|      |     Student Name     |     Student ID     | \n",
    "|---   |         ---          |           ---      |\n",
    "| 1    |      José Matos      |       20220607     | \n",
    "| 2    |      Miguel Ramos    |       20210581     | "
   ]
  },
  {
   "cell_type": "markdown",
   "metadata": {},
   "source": [
    "## Clustering with K-Means\n",
    "\n",
    "K-means is one of the simplest clustering algorithms, which you perhaps are already familiar from Data Mining. The K-means Algorithm consists in writing a program that proceeds as follows:\n",
    "\n",
    "1. Choose value for K (number of clusters);\n",
    "2. Initialize the locations of the centroids, which we can do by randomly select K points from your dataset as initial locations of the centroids;\n",
    "3. Calculate distance of all other points to each of the K centroids;\n",
    "4. Associate each point to the cluster of the closest centroid;\n",
    "5. Update the centroid position, by computing the average coordinates of all points associated to each cluster;\n",
    "6. Evaluate the average change in the centroids positions, as a measure of convergence (the algorithm is said to have converged to the solution when the positions of the centroids don't change more than a given tolerance threshold);\n",
    "7. Repeat steps 3-6 until either the centroids no longer move more than a tolerance threshold or until you repeated these steps at least for specified number of iterations (niter)\n",
    "\n",
    "The algorithm is thus parametized by the number of clusters (K), the maximum number of iterations (niter), and the tolerance threshold (tol).\n",
    "\n",
    "### Step 1\n",
    "\n",
    "Let us start by importing the necessary libraries to execute this homework. <br>\n",
    "Import **numpy, Scipy, and pandas** using, respectively, the **aliases np, sc, and pd**.\n",
    "\n",
    "<span style=\"color:red\">**These are the only libraries you are allowed to use in the remaining of the steps, unless explicitly said the opposite/if the library is imported in the cells below.**</span>"
   ]
  },
  {
   "cell_type": "code",
   "execution_count": 98,
   "metadata": {},
   "outputs": [],
   "source": [
    "# Importing the necessary libraries to execute this homework.\n",
    "\n",
    "import numpy as np\n",
    "import scipy as sc\n",
    "import pandas as pd"
   ]
  },
  {
   "cell_type": "markdown",
   "metadata": {},
   "source": [
    "It is important that we devise a strategy to test our code at each step, in order to assess if it performs as expected. To that end, we have split each step of the algorithm in different blocks, and we ask you to test each block against a simple scenario where the outcome is predictable and can be computed by hand. In some steps, however, we want to pass a more comprehensive data set with similar properties to the real dataset we will be working with.<br>\n",
    "\n",
    "Such test datasets try to create realistic conditions in which your algorithm is expected to work correctly, and for which we can also assess if the solution matches our expectation and have a general understanding if the algorithm performs as expected in \"real-world\" conditions.<br>\n",
    "\n",
    "For this homework we will resort to a dataset that contains two clearly distinct clusters. We generated the clusters by sampling points from two distinct gaussian distributions with different averages and same standard deviation. <br>\n",
    "\n",
    "As such, our algorithm should be able to identify each cluster easily, and place the centroids close to the averages of the two distributions. <br>\n",
    "\n",
    "Run the cell below to download, load the data into a numpy array, and visualize your Test dataset.<br>\n",
    "You will run your algorithm implementation against this dataset as a proof of work."
   ]
  },
  {
   "cell_type": "code",
   "execution_count": 99,
   "metadata": {},
   "outputs": [
    {
     "data": {
      "text/plain": [
       "<matplotlib.collections.PathCollection at 0x7fabf4a1a400>"
      ]
     },
     "execution_count": 99,
     "metadata": {},
     "output_type": "execute_result"
    },
    {
     "data": {
      "image/png": "[encoded data removed]",
      "text/plain": [
       "<Figure size 432x288 with 1 Axes>"
      ]
     },
     "metadata": {},
     "output_type": "display_data"
    }
   ],
   "source": [
    "import matplotlib.pyplot as plt\n",
    "\n",
    "# Downloading the file into a DataFrame and converting it to a numpy array.\n",
    "\n",
    "data_test = pd.read_csv(\"https://www.dropbox.com/s/gax1l68jsarxqt9/data_test.txt?dl=1\", header=None).to_numpy()\n",
    "\n",
    "# Plotting the points into a scatter plot.\n",
    "\n",
    "plt.scatter(data_test[:, 0], data_test[:,1], color ='k', marker='x')"
   ]
  },
  {
   "cell_type": "markdown",
   "metadata": {},
   "source": [
    "### Step 2 \n",
    "\n",
    "Write a function named <b>init</b> that takes two arguments: $points$ and $K$. <br>\n",
    "The function <b>init</b> should return a numpy ndarray with  $K$ elements sampled randomly and without replacement from $points$. Meaning, the same point should not be picked up twice. <br>\n",
    "\n",
    "**Show that your function performs as desired by calling it with** $K = 2$ **and on the data_test as the** $points$."
   ]
  },
  {
   "cell_type": "code",
   "execution_count": 100,
   "metadata": {},
   "outputs": [],
   "source": [
    "# We define function init(), which will use points and K as arguments. We select the index of\n",
    "# the points we want to pick by using the .choice() method, which returns K randomly\n",
    "# selected elements from a specified sequence. We are going to use the integer number of points\n",
    "# as the specified sequence, as it applies the .arange() method to integers. We set size\n",
    "# equal to K as we want to choose K points, and we set replace=False as we don't want to get\n",
    "# repeated values. The function will return the chosen K points. \n",
    "\n",
    "def init(points,K):\n",
    "    idx=np.random.choice(points.shape[0],size=K,replace=False)\n",
    "    return points[idx,:]\n",
    "\n",
    "# This function will be useful as it will determine the initial position of our centroids going\n",
    "# forward."
   ]
  },
  {
   "cell_type": "code",
   "execution_count": 101,
   "metadata": {},
   "outputs": [
    {
     "name": "stdout",
     "output_type": "stream",
     "text": [
      "The desired output is the following:\n",
      "[[484 513]\n",
      " [618 601]]\n"
     ]
    }
   ],
   "source": [
    "print(\"The desired output is the following:\")\n",
    "print(init(data_test,2))"
   ]
  },
  {
   "cell_type": "markdown",
   "metadata": {},
   "source": [
    "### Step 3\n",
    "\n",
    "Write a function named <b>distance</b> that takes two arguments: $p1$ and $p2$. <br>\n",
    "The function <b>distance</b> should return a scalar that corresponds to the euclidian distance between points $p1$ and $p2$, that should have a ndarray format. <br> \n",
    "For the assignment you can assume that $p1$ and $p2$ are two-dimensional ndarrays points. But in general, you should assume that p1 and p2 are two ndarrays of the same size.\n",
    "\n",
    "Recall that the euclidian distance (d) between two points ($p_1$ and $p_2$) in a 2-dimensional space is given by:<br><br>\n",
    "\\begin{equation}\n",
    "    d(p_1, p_2) = \\sqrt{(x_1-x_2)^2 + (y_1-y_2)^2}\n",
    "\\end{equation}<br>\n",
    "where $p_1 = \\{x_1,y_1\\}$ and  $p_2 = \\{x_2,y_2\\}$. \n",
    "\n",
    "**Test your function works by computing the distance between p1=(1,3) and p2=(7,2), which is $\\approx$ 6.08.**<br>\n",
    "**Consider using the existing Numpy or Scipy packages for this task**\n",
    "\n",
    "Can you write a function that computes the euclidian distance between two points of arbitrary dimension? <br>\n",
    "In general, for arbitrary dimensionality the square of the distance can be computed as:<br><br>\n",
    "\\begin{equation}\n",
    "    d^2(p_1, p_2) = \\sum_{i=0}^{D-1} (x_i-y_i)^2\n",
    "\\end{equation}<br>\n",
    "where $p_1 = \\{x_1,x_2,...,x_{D-1}, x_D\\}$ and $p_2 = \\{y_1,y_2,...,y_{D-1},y_D\\}$.<br>\n",
    "\n",
    "**Show your function works by computing the distance between (1,3,-9,12) and (7,2,0,5)**"
   ]
  },
  {
   "cell_type": "code",
   "execution_count": 102,
   "metadata": {},
   "outputs": [],
   "source": [
    "# As stated in the question for the first function we are going to assume\n",
    "# both points are two-dimensional ndarrays points. We are also not going to use\n",
    "# numpy or spcipy packages, leaving that for the next task.\"\n",
    "# We are defining a function called distance_example, which takes two points as\n",
    "# the argument and then applies the euclidean distance formula.\n",
    "\n",
    "def distance_example(point1,point2):\n",
    "    return (((point1[0]-point2[0])**2)+((point1[1]-point2[1])**2))**(1/2)"
   ]
  },
  {
   "cell_type": "code",
   "execution_count": 103,
   "metadata": {},
   "outputs": [],
   "source": [
    "# Test variables do not change.\n",
    "\n",
    "p1 = np.array([1,3])\n",
    "p2 = np.array([7,2])"
   ]
  },
  {
   "cell_type": "code",
   "execution_count": 104,
   "metadata": {},
   "outputs": [
    {
     "name": "stdout",
     "output_type": "stream",
     "text": [
      "The distance between p1 and p2 is in fact: 6.08\n"
     ]
    }
   ],
   "source": [
    "print(\"The distance between p1 and p2 is in fact:\",round(distance_example(p1,p2),2))"
   ]
  },
  {
   "cell_type": "code",
   "execution_count": 105,
   "metadata": {},
   "outputs": [],
   "source": [
    "# Now we are going to create the same distance function, but we will allow\n",
    "# as input two points of arbitrary dimension. We are also going to use \n",
    "# numpy for this task. We are defining a function called distance, which takes\n",
    "# two points as arguments. Inside the fuction, we are going to calculate the\n",
    "# sum of the squared difference between the two points. And then to obtain\n",
    "# the distance, we just have to apply the square root numpy method to the\n",
    "# squared sum.\n",
    "\n",
    "def distance(point1,point2):\n",
    "    sum_squared=np.sum(np.square(point1-point2))\n",
    "    sum_sqr=np.sqrt(sum_squared)\n",
    "    return sum_sqr"
   ]
  },
  {
   "cell_type": "code",
   "execution_count": 106,
   "metadata": {},
   "outputs": [],
   "source": [
    "# Defining p3 and p4.\n",
    "\n",
    "p3 = np.array([1,3,-9,12])\n",
    "p4 = np.array([7,2,0,5])"
   ]
  },
  {
   "cell_type": "code",
   "execution_count": 107,
   "metadata": {},
   "outputs": [
    {
     "name": "stdout",
     "output_type": "stream",
     "text": [
      "The distance between p3 and p4 is: 12.92\n"
     ]
    }
   ],
   "source": [
    "print(\"The distance between p3 and p4 is:\",round(distance(p3,p4),2))"
   ]
  },
  {
   "cell_type": "markdown",
   "metadata": {},
   "source": [
    "### Step 4\n",
    "\n",
    "Write a function named <b>centroid</b> that takes one argument: $points$.<br>\n",
    "\n",
    "The argument $points$ should be a ndarray with the coordinates of a set of observations.<br>\n",
    "\n",
    "The function <b>centroid</b> should return an ndarray with $d$ values (being $d$ the number of dimensions)</span>, the $n^{th}$ index of the returned output ndarray should thus correspond to the averaged of the values in the $n^{th}$ column of the points ndarray. In other words, correspond to the average position along a specific dimension of observations in $points$.</span>\n",
    "\n",
    "**Test your function and check that is works by using the ndarray TEST**\n"
   ]
  },
  {
   "cell_type": "code",
   "execution_count": 108,
   "metadata": {},
   "outputs": [],
   "source": [
    "# We define the function centroid, which takes an array of points as its argument.\n",
    "# We calculate the mean of the points by summing all points along their columns and\n",
    "# dividing the sums by the number of points. The fuction will return the centroid.\n",
    "\n",
    "def centroid(points):\n",
    "    mean=np.sum(points,axis=0)/len(points)\n",
    "    return mean"
   ]
  },
  {
   "cell_type": "code",
   "execution_count": 109,
   "metadata": {
    "scrolled": true
   },
   "outputs": [
    {
     "name": "stdout",
     "output_type": "stream",
     "text": [
      "[[1 2 3 4 5]\n",
      " [0 0 1 1 1]\n",
      " [0 1 2 4 5]]\n"
     ]
    }
   ],
   "source": [
    "# Test variables do not change the values.\n",
    "\n",
    "test = np.array([[1,2,3,4,5],[0,0,1,1,1],[0,1,2,4,5]])\n",
    "print(test)"
   ]
  },
  {
   "cell_type": "code",
   "execution_count": 110,
   "metadata": {},
   "outputs": [
    {
     "name": "stdout",
     "output_type": "stream",
     "text": [
      "For this set of points, the function calculates the following centroid:\n",
      "[0.33333333 1.         2.         3.         3.66666667]\n"
     ]
    }
   ],
   "source": [
    "print(\"For this set of points, the function calculates the following centroid:\")\n",
    "print(centroid(test))"
   ]
  },
  {
   "cell_type": "markdown",
   "metadata": {},
   "source": [
    "### Step 5\n",
    "\n",
    "Write a function <b>cupdate</b> that takes two input arguments: <i>points</i> and <i>clusters</i><br> \n",
    "\n",
    "The argument <i>points</i> is a ndarray containing the coordinates of a set of points (1 point per row).<br>\n",
    "\n",
    "The argument <i>clusters</i> is a 1-dimensional ndarray that indicates the cluster to which each point is associated.<br>\n",
    "\n",
    "Note that values in <i>clusters</i> are integers and can only take values between 0 and K-1, where K is the total number of clusters.\n",
    "\n",
    "The function <b>cupdate</b> should return an ndarray with the average coordinates of the points associated to each cluster, that is the centroid of each cluster. The returned array should have the same number of columns as points (dimensions) and length K (rows).\n",
    "\n",
    "**Test your function and report the centroids generated by passing p and c as inputs with k = 3. Save these centroids as a variable: cen**"
   ]
  },
  {
   "cell_type": "code",
   "execution_count": 111,
   "metadata": {
    "scrolled": true
   },
   "outputs": [],
   "source": [
    "# The function cupdate takes as arguments a set of points and an array of clusters corresponding\n",
    "# to each one of the points and returns the centroid for each one of the clusters.\n",
    "# Inside the function we define a numpy array full of zeros that will have as many rows\n",
    "# as there are unique clusters, and as many columns as there are dimensions.\n",
    "# Then with a for loop we will substitute each row of zeros for each one of the centroids by using\n",
    "# the centroid function on the respective points of each cluster. We obtain the points\n",
    "# of each cluster by indexing the initial array of points with a list of booleans, that\n",
    "# returns True when we are looking at the corresponding cluster, and returns False otherwise.\n",
    "\n",
    "def cupdate(points,clusters):\n",
    "    avg_cluster=np.zeros((len(np.unique(clusters)),points.shape[1]))\n",
    "    for i in range(len(np.unique(clusters))):\n",
    "        avg_cluster[i]+=centroid(points[clusters==i])\n",
    "    return avg_cluster"
   ]
  },
  {
   "cell_type": "code",
   "execution_count": 112,
   "metadata": {},
   "outputs": [],
   "source": [
    "# Test variables, do not change the values.\n",
    "\n",
    "p = np.array([[0.8922063, 0.26672425],[0.34475611, 0.35976697],[0.33253499, 0.18923898],[0.66872466, 0.46248986],[0.72823733, 0.10537784],[0.40903598, 0.70639412],[0.79926596, 0.90095583],[0.67886544, 0.84573289],[0.3641813, 0.64296743],[0.07461196, 0.74290527]])\n",
    "c = np.array([2, 0, 0, 1, 1, 0, 0, 1, 0, 1])"
   ]
  },
  {
   "cell_type": "code",
   "execution_count": 113,
   "metadata": {
    "scrolled": true
   },
   "outputs": [
    {
     "name": "stdout",
     "output_type": "stream",
     "text": [
      "The centroids for each one of the clusters will be the following:\n",
      "[[0.44995487 0.55986467]\n",
      " [0.53760985 0.53912646]\n",
      " [0.8922063  0.26672425]]\n"
     ]
    }
   ],
   "source": [
    "cen=cupdate(p,c)\n",
    "print(\"The centroids for each one of the clusters will be the following:\")\n",
    "print(cen)"
   ]
  },
  {
   "cell_type": "markdown",
   "metadata": {},
   "source": [
    "### Step 6\n",
    "\n",
    "Write a function <b>pupdate</b> that takes two input arguments: $points$ and $centroids$.<br>\n",
    "\n",
    "The function <b>pupdate</b> should return a one-dimensiona ndarray that indicates the index of the centroid that is closer to each point. To determine the distance between a centroid and a point you can use your distance function you created earlier. <br>\n",
    "\n",
    "You will need to assess the distance between each point to each centroid. Different approaches can be taken to do this. For instance, you can start by computing a d by k distance matrix matrix between each of the $d$ points and the $k$ centroids.\n",
    "\n",
    "**Test your function by calling it and passing the array p (as defined above) with the output of cupdate, cen, as arguments. You should get an output that looks like c defined above (but is not exactly the same, can you see why). Print this result and save it in a variable called new_clusters**"
   ]
  },
  {
   "cell_type": "code",
   "execution_count": 114,
   "metadata": {},
   "outputs": [],
   "source": [
    "# This function will associate each point to the cluster of the closest centroid,\n",
    "# taking as arguments the set of points and the position of each one of the centroids.\n",
    "# In the first part of the function we are going to calculate the distance of each point\n",
    "# to each one of the centroids. Each row of \"distance_matrix\" will have in each column the distance\n",
    "# between that point and each cluster.\n",
    "\n",
    "def pupdate(points,centroids):\n",
    "    distance_matrix=np.zeros((len(points),len(centroids)))\n",
    "    for i in range(len(points)):\n",
    "        for j in range(len(centroids)):\n",
    "            distance_matrix[i][j]+=distance(points[i],centroids[j])\n",
    "            \n",
    "# Then, by using the numpy method .argmin() we are going to return the indexes of the minimum\n",
    "# distances along each line, which corresponds to the cluster. We return the variable \"clusters\"\n",
    "# which will identify the cluster of each point.\n",
    "\n",
    "    clusters=np.argmin(distance_matrix,axis=1)\n",
    "    return clusters"
   ]
  },
  {
   "cell_type": "code",
   "execution_count": 115,
   "metadata": {},
   "outputs": [
    {
     "name": "stdout",
     "output_type": "stream",
     "text": [
      "The new clusters for the set of points will be the following:\n",
      "[2 0 0 1 2 0 1 1 0 0]\n",
      "The output doesn't look exactly like the previous set of clusters, because now we had our centroids updated, and so some points can now be closer to a different centroid and assigned to a different cluster.\n"
     ]
    }
   ],
   "source": [
    "new_clusters=pupdate(p,cen)\n",
    "print(\"The new clusters for the set of points will be the following:\")\n",
    "print(new_clusters)\n",
    "print(\"The output doesn't look exactly like the previous set of clusters, because now we had our centroids updated, and so some points can now be closer to a different centroid and assigned to a different cluster.\")"
   ]
  },
  {
   "cell_type": "markdown",
   "metadata": {},
   "source": [
    "### Step 7\n",
    "\n",
    "Write a function <b>error</b> that takes two input arguments: oldcentroids and newcentroids.<br>\n",
    "\n",
    "The argument oldcentroids corresponds to a ndarray with centroid positions from the previous iteration, and newcentroids to a ndarray with the newly computed centroid positions from the current iteration. <br>\n",
    "\n",
    "The function <b>error</b> should return the average euclidian distance (the square error) between the old and new positions of each centroid.  This will give us a quantity that tell us whether our algorithm is still converging to the solution or  got to good approximation.</span> We will use the function error to obtain an estimate of whether the algorithm is still converging to the solution (that is the centroids are, in average, moving a lot) or if we entered a scenario of small steps (that is the centroids are, in average, not moving that much). \n",
    "\n",
    "We will use this information combined with a **tolerance threshold** in regards to the average change in the centroids positions to decide if it is a good time to stop the algorithm. You should make this decision.\n",
    "\n",
    "\n",
    "**Test your function then report the distance between the centroids calculated in Step 5, cen, and the centroids that you can calculate using the function cupdate with the arguments points and new_clusters.**"
   ]
  },
  {
   "cell_type": "code",
   "execution_count": 116,
   "metadata": {},
   "outputs": [],
   "source": [
    "# The function error will receive two arrays, one with the position of the previous\n",
    "# centroids, and the other with the position of the newly defined centroids.\n",
    "# To perform the average of the error we create an array of zeros with the size of \n",
    "# the number of centroids. With a for-loop, we are going to substitute each zero of \"eucl_distances\"\n",
    "# for the distance between each one of the previous and each one of the new centroids.\n",
    "# Then, we return the mean of this \"eucl_distances\", which will represent the error.\n",
    "\n",
    "def error(oldcentroids,newcentroids):\n",
    "    eucl_distances=np.zeros(len(oldcentroids))\n",
    "    for i in range(len(oldcentroids)):\n",
    "        eucl_distances[i]=(distance(oldcentroids[i],newcentroids[i]))\n",
    "    return np.mean(eucl_distances)"
   ]
  },
  {
   "cell_type": "code",
   "execution_count": 117,
   "metadata": {},
   "outputs": [
    {
     "name": "stdout",
     "output_type": "stream",
     "text": [
      "The error between the previous two calculated centroids is: 0.17635560837965428\n"
     ]
    }
   ],
   "source": [
    "print(\"The error between the previous two calculated centroids is:\",error(cen,cupdate(p,new_clusters)))"
   ]
  },
  {
   "cell_type": "markdown",
   "metadata": {},
   "source": [
    "### Step 8\n",
    "\n",
    "Write a wrapper function called <b>kmeans</b> that takes the following arguments:\n",
    "- $points$, which is a ndarray of points;\n",
    "- $K$, the number of clusters, set the default value to two;\n",
    "- $niter$, the number of iterations;\n",
    "- $tol$, the error tolerance threshold below which your algorithm should stop\n",
    "\n",
    "The function should return:\n",
    "- A one dimensional ndarray with the cluster of associated to each point,\n",
    "- A ndarray with the location of the K centroids.\n",
    "\n",
    "Use the functions you prepared in the previous to assemble the function <b>kmeans</b>. <br>\n",
    "Use the tolerance as a treshold to stop the algorithm, for instance by evaluating if the average variation in the distance between the new and previous coordinates of the centroids is below the tolerance level. If yes, then you can stop the algorithm and return the outputs. <br>\n",
    "\n",
    "**You will need to make some decisions about the best approach to select the correct range of values to pass to init(). Explain how you did it.**\n",
    "\n",
    "**Note: A common issue with the K-means algorithm is that in some limiting conditions it might lead to empty clusters. In that case it is expected that your algorithm to return errors. Although that is not expected to happen with the examples provided, you might want to consider implementing some heuristics to overcome those errors. However, such is an optional task, and for this homework if you bump into such errors we recommend you try to rerun your code.**"
   ]
  },
  {
   "cell_type": "code",
   "execution_count": 118,
   "metadata": {},
   "outputs": [],
   "source": [
    "# The function \"kmeans\" will take as arguments a set of points, the number of iterations,\n",
    "# the tolerance threshold, and the number of clusters we want to create.\n",
    "# The initial location of the centroid will be assigned by randomly selecting K points from our\n",
    "# dataset using the function init(). We start by defining an initial maximum value for the \n",
    "# error and create the variable \"counter\" that will count the number of interactions.\n",
    "\n",
    "def kmeans(points,niter,tol,K=2):\n",
    "    last_centroid=init(points,K)\n",
    "    last_error=9e99\n",
    "    counter=0\n",
    "    clusters_ident=None\n",
    "    \n",
    "# Then, using a while-loop, while the error is higher than the tolerance and the variable \"counter\" is smaller than\n",
    "# the number of iterations defined, we are going to constantly associate each point to the cluster\n",
    "# of the closest centroid and then updating the centroid position, by computing the average\n",
    "# coordinates of all points associated to each cluster. In every loop, we will be also evaluating\n",
    "# the change in the position of the centroids.\n",
    "# As we are declaring the \"last_centroid\" and \"clusters_ident\" out of the while-loop when it stops\n",
    "# we will be able to return the last values for both variables.\n",
    "    \n",
    "    while (last_error>tol and counter<niter):\n",
    "        clusters_ident=pupdate(points,last_centroid)\n",
    "        new_centroid=cupdate(points,clusters_ident)\n",
    "        last_error=error(last_centroid,new_centroid)\n",
    "        last_centroid=new_centroid\n",
    "        counter+=1\n",
    "    return clusters_ident,last_centroid\n",
    "\n",
    "# Important to notice that since we didn't implement heuristics, when we choose a large number of\n",
    "# clusters, depending on the position of the initial centroids, there will be clusters that can have\n",
    "# no points assigned, which will return error when using this function. In cases with a big data point\n",
    "# dispersion or in cases where we set a low number of clusters this error is not likely to happen."
   ]
  },
  {
   "cell_type": "code",
   "execution_count": 119,
   "metadata": {
    "scrolled": false
   },
   "outputs": [
    {
     "data": {
      "text/plain": [
       "(array([1, 1, 1, ..., 0, 0, 0]),\n",
       " array([[599.49853372, 599.63538612],\n",
       "        [499.65527344, 498.94433594]]))"
      ]
     },
     "execution_count": 119,
     "metadata": {},
     "output_type": "execute_result"
    }
   ],
   "source": [
    "kmeans(data_test,500,0.00001)"
   ]
  },
  {
   "cell_type": "markdown",
   "metadata": {},
   "source": [
    "It is useful to visually inspect the results in order to assess the performance of the clustering algorthim. <br>\n",
    "Below is an example of how you can visualize your results for a sample dataset. <br>\n",
    "Can you adapt the code to show your results applied to data_test with K = 2, niter = 500, tol = 0.00001.\n",
    "\n",
    "<span style=\"color:red\">**In this step feel free to use any other visualization library such as Seaborn.**</span>"
   ]
  },
  {
   "cell_type": "code",
   "execution_count": 120,
   "metadata": {},
   "outputs": [
    {
     "data": {
      "image/png": "[encoded data removed]",
      "text/plain": [
       "<Figure size 432x288 with 1 Axes>"
      ]
     },
     "metadata": {},
     "output_type": "display_data"
    }
   ],
   "source": [
    "# Importing the necessary libraries.\n",
    "\n",
    "import numpy as np\n",
    "import matplotlib.pyplot as plt\n",
    "from matplotlib import style\n",
    "\n",
    "# Defining the style of the plot.\n",
    "\n",
    "style.use('ggplot')\n",
    "colors=[\"g\",\"r\",\"c\",\"b\"]\n",
    "\n",
    "# Applying kmeans() to obtain the centroids and the clusters.\n",
    "\n",
    "data=data_test\n",
    "clusters_id,centroids_loc=kmeans(data,500,0.00001,2)\n",
    "\n",
    "# Plotting each point in the centroids array. We decreased the size of each data point\n",
    "# in order to see better the position of each centroid.\n",
    "\n",
    "for centroid1 in centroids_loc:\n",
    "    plt.scatter(centroid1[0],centroid1[1], marker=\"o\", color=\"k\", s=150, linewidths=5)\n",
    "\n",
    "# Plotting each point in the points array, colored according to the cluster they belong.\n",
    "\n",
    "for i in range(len(clusters_id)):\n",
    "    plt.scatter(data[i,0],data[i,1], marker=\"x\", color=colors[int(clusters_id[i])], s=150, linewidths=5)\n",
    "\n",
    "# Plotting all elements.\n",
    "\n",
    "plt.show()"
   ]
  },
  {
   "cell_type": "markdown",
   "metadata": {},
   "source": [
    "### Step 9\n",
    "\n",
    "Write a function <b>inertia</b> that takes three input arguments: $points$, $clusters$, and $centroids$.<br>\n",
    "Where $points$ is a 2-dimensional ndarray with the coordinates of each point in your dataset, clusters is a vector that indicates the cluster of each point (takes values between $0$ and $K-1$), and $centroids$ is a 2-dimensional ndarray with length $k$ of the coordinates of the centroids.\n",
    "\n",
    "The function should return a tuple in which the first value is the number of clusters and the second is the computed **average squared Euclidean distance** of the points to the centroid of the cluster they are assigned.\n",
    "The Squared of the Euclidean distance is a common measure of error that satisfies several important properties, namely it is strictly convex and smooth. It is often used in the method of Least Squares to fit linear functions to data, in which we try to find the parameters of a linear model that minimize the average of the square distances between the observed values and the values predicted by the fitted model. Here we are borrowing these concepts to measure the dispersion of points in a cluster, in other words, the error between the position of the centroid and the locations of the points associated with it.\n",
    "\n",
    "**Test your function and report the results of using point=p, clusters=c, and centroids=cen. These are the variables that you have used in the previous steps**\n",
    "\n",
    "<span style=\"color:red\">**Note: distance always refers to the euclidean distance.**</span>"
   ]
  },
  {
   "cell_type": "code",
   "execution_count": 121,
   "metadata": {},
   "outputs": [],
   "source": [
    "# The function inertia will have as arguments the set of points, an array identifying\n",
    "# the cluster of each one of the points, and the centroids position.\n",
    "# We iterate over all the points by calculating their square distance to the centroid\n",
    "# of their cluster and we add it to the variable \"totalizer\". Then we divide the\n",
    "# totalizer by the number of points, so that we get the average squared euclidean\n",
    "# distance that we store in the variable \"avg_totalizer\".\n",
    "\n",
    "def inertia(points,clusters,centroids):\n",
    "    totalizer=0\n",
    "    number_of_clusters=len(np.unique(clusters))\n",
    "    for i in range(number_of_clusters):                            # To iterate over each cluster.\n",
    "        data_points=points[clusters==i]\n",
    "        number_of_points=len(points[clusters==i])\n",
    "        for j in range(len(data_points)):                          # To iterate over each point in each cluster.\n",
    "            totalizer+=distance(data_points[j],centroids[i])**2\n",
    "    avg_totalizer=totalizer/len(points)\n",
    "    return len(np.unique(clusters)),avg_totalizer \n",
    "\n",
    "# We want to use the average squared euclidean distance, as it penalizes the most\n",
    "# the points that are further away from the centroid of their cluster."
   ]
  },
  {
   "cell_type": "code",
   "execution_count": 122,
   "metadata": {},
   "outputs": [
    {
     "name": "stdout",
     "output_type": "stream",
     "text": [
      "When applying K-Means with 3 clusters to p, the error between the position of the centroid and the locations of the points associated with it is: 0.10954209828084611\n"
     ]
    }
   ],
   "source": [
    "result=inertia(p,c,cen)\n",
    "print(f\"When applying K-Means with {result[0]} clusters to p, the error between the position of the centroid and the locations of the points associated with it is: {result[1]}\")"
   ]
  },
  {
   "cell_type": "markdown",
   "metadata": {},
   "source": [
    "### Step 10\n",
    "\n",
    "Load the data from file https://www.dropbox.com/s/wco3lxgn1f4a5k2/data_custering.csv?dl=1 into numpy array.<br>\n",
    "The data consists of the coordinates of $N$ points in a 2-dimensional space. <br>\n",
    "Use the functions <b>kmeans</b> and <b>internia</b> to identify the most suitable number of clusters. <br>\n",
    "You might want to consider doing some visual inspection and reporting. <br>\n",
    "For instance, inspect visually the dataset before performing the clustering; report the inertia values as a line plot; show the result of your clustering.\n",
    "\n",
    "***Tip: use the output of inertia to perform the elbow method https://en.wikipedia.org/wiki/Elbow_method_(clustering).***"
   ]
  },
  {
   "cell_type": "code",
   "execution_count": 123,
   "metadata": {
    "scrolled": true
   },
   "outputs": [
    {
     "data": {
      "text/plain": [
       "<matplotlib.collections.PathCollection at 0x7fac0ce05bb0>"
      ]
     },
     "execution_count": 123,
     "metadata": {},
     "output_type": "execute_result"
    },
    {
     "data": {
      "image/png": "[encoded data removed]",
      "text/plain": [
       "<Figure size 432x288 with 1 Axes>"
      ]
     },
     "metadata": {},
     "output_type": "display_data"
    }
   ],
   "source": [
    "# We import the data_test2 and we create a scatter plot in order to inspect\n",
    "# visually the data. At first glance, we are inclined to say that the perfect number\n",
    "# of clusters would be 15, as we can see 15 different groups of data points.\n",
    "\n",
    "data_test2 = pd.read_csv(\"https://www.dropbox.com/s/wco3lxgn1f4a5k2/data_custering.csv?dl=1\", header=None).to_numpy()\n",
    "plt.scatter(data_test2[:, 0], data_test2[:,1], color ='k', marker='x')"
   ]
  },
  {
   "cell_type": "code",
   "execution_count": 127,
   "metadata": {
    "scrolled": true
   },
   "outputs": [
    {
     "name": "stdout",
     "output_type": "stream",
     "text": [
      "[[1.00000000e+00 1.15361408e+11]\n",
      " [2.00000000e+00 7.27981274e+10]\n",
      " [3.00000000e+00 4.27017312e+10]\n",
      " [4.00000000e+00 2.89995841e+10]\n",
      " [5.00000000e+00 2.09871027e+10]\n",
      " [6.00000000e+00 1.64345019e+10]\n",
      " [7.00000000e+00 1.40569539e+10]\n",
      " [8.00000000e+00 1.31658312e+10]\n",
      " [9.00000000e+00 8.52331941e+09]\n",
      " [1.00000000e+01 7.11069998e+09]\n",
      " [1.10000000e+01 6.45338534e+09]\n",
      " [1.20000000e+01 6.34440321e+09]\n",
      " [1.30000000e+01 4.99947404e+09]\n",
      " [1.40000000e+01 2.87754598e+09]\n",
      " [1.50000000e+01 4.67939924e+09]\n",
      " [1.60000000e+01 2.79562897e+09]\n",
      " [1.70000000e+01 1.69479324e+09]\n",
      " [1.80000000e+01 1.65474583e+09]\n",
      " [1.90000000e+01 2.72430956e+09]\n",
      " [2.00000000e+01 2.47231314e+09]]\n"
     ]
    }
   ],
   "source": [
    "# We create a for loop that will apply the function kmeans to the \"data_test2\"\n",
    "# but in every iteration it will increase the number of clusters by 1 until 20 clusters.\n",
    "# Then with each one of the outputs of each one of the iterations we are going to fill\n",
    "# the array of zeros \"to_plot\" that we created initially. Then we will have 20 points to plot,\n",
    "# where the variable x will be the number of clusters and the variable y will be the inertia.\n",
    "\n",
    "to_plot=np.zeros((20,2))\n",
    "\n",
    "for i in range(20):\n",
    "    (clusters_id,centroids)=kmeans(data_test2,500,0.00001,i+1)\n",
    "    (n_clusters,sse)=inertia(data_test2,clusters_id,centroids)\n",
    "    to_plot[i][0]+=n_clusters\n",
    "    to_plot[i][1]+=sse\n",
    "\n",
    "print(to_plot)"
   ]
  },
  {
   "cell_type": "code",
   "execution_count": 128,
   "metadata": {},
   "outputs": [
    {
     "data": {
      "text/plain": [
       "[<matplotlib.lines.Line2D at 0x7fabf513f970>]"
      ]
     },
     "execution_count": 128,
     "metadata": {},
     "output_type": "execute_result"
    },
    {
     "data": {
      "image/png": "[encoded data removed]",
      "text/plain": [
       "<Figure size 432x288 with 1 Axes>"
      ]
     },
     "metadata": {},
     "output_type": "display_data"
    }
   ],
   "source": [
    "# We plot the graph and following the elbow method the perfect number\n",
    "# of clusters will be between 5 and 7. We decided to go with the average,\n",
    "# which is 6 clusters.\n",
    "\n",
    "plt.title(\"Trade-off - Elbow Method\")\n",
    "plt.xlabel(\"Number of clusters\")\n",
    "plt.ylabel(\"Average Squared Error\")\n",
    "plt.plot(to_plot[:,0],to_plot[:,1], color = \"blue\")"
   ]
  },
  {
   "cell_type": "code",
   "execution_count": 126,
   "metadata": {
    "scrolled": true
   },
   "outputs": [
    {
     "data": {
      "image/png": "[encoded data removed]",
      "text/plain": [
       "<Figure size 432x288 with 1 Axes>"
      ]
     },
     "metadata": {},
     "output_type": "display_data"
    }
   ],
   "source": [
    "# To visualize the 6 clusters we write the same lines of code we wrote above\n",
    "# but this time we will use the function \"kmeans()\" with 6 clusters to feed\n",
    "# the visualization. By obtaining the position of the centroids and to which\n",
    "# cluster belongs each data point we are able to plot the new graph.\n",
    "# We decreased the size of each data point and centroid to better visualize.\n",
    "\n",
    "style.use('ggplot')\n",
    "colors=[\"g\",\"r\",\"c\",\"b\",\"m\",\"y\"]\n",
    "data=data_test2\n",
    "clusters_id,centroids_loc=kmeans(data,500,0.00001,6)\n",
    "for centroid1 in centroids_loc:\n",
    "    plt.scatter(centroid1[0],centroid1[1], marker=\"o\", color=\"k\", s=15, linewidths=5)\n",
    "for i in range(len(clusters_id)):\n",
    "    plt.scatter(data[i,0],data[i,1], marker=\"x\", color=colors[int(clusters_id[i])], s=5, linewidths=5)\n",
    "plt.show()"
   ]
  }
 ],
 "metadata": {
  "kernelspec": {
   "display_name": "Python 3 (ipykernel)",
   "language": "python",
   "name": "python3"
  },
  "language_info": {
   "codemirror_mode": {
    "name": "ipython",
    "version": 3
   },
   "file_extension": ".py",
   "mimetype": "text/x-python",
   "name": "python",
   "nbconvert_exporter": "python",
   "pygments_lexer": "ipython3",
   "version": "3.9.12"
  }
 },
 "nbformat": 4,
 "nbformat_minor": 4
}
