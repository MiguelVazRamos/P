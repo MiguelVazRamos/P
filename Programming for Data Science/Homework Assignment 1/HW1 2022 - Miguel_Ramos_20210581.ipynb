{
 "cells": [
  {
   "cell_type": "markdown",
   "metadata": {
    "tags": []
   },
   "source": [
    "# Programming for Data Science 2022\n",
    "## Homework Assigment One\n",
    "\n",
    "Homework activities aim, not only, at testing your ability to put into practice the concepts you have learned during the Lectures and Labs, but also your ability to explore the Python documentation as a resource. \n",
    "\n",
    "Above all, it is an opportunity for you to challenge yourself and practice. If you are having difficulties with the assignment reach out for support.\n",
    "\n",
    "The Homework Assigment One is divided into **three parts**:\n",
    "1. Explore the core building blocks of programming, focusing in variables, data structures, and their manipulation;\n",
    "2. Explore data loading and analysis using the core elements of Python, without fancy third-party libraries;\n",
    "3. Explore functional programming by defining different functions and operating with the map() and filter().\n",
    "\n",
    "Your submission will be graded according to the following guidelines:\n",
    "1. Execution (does your program does what is asked from the exercise?\n",
    "2. Objectivity (are you using the adequate libraries? are you using a library ... );\n",
    "3. Readibility of your code (that includes comments, naming of variables, supporting text, etc ...).\n",
    "\n",
    "This assignment is to be done in groups of two, groups that are caught cheating will obtain a score of 0 points. \\\n",
    "\n",
    "The Homeworking Assignment One is worth **20%** of your final grade.\n",
    "\n",
    "The submission package should correspond to a .zip archive (.rar files are not acceptable) with the following files:\n",
    "1. Jupyter Notebook with the output of all the cells;\n",
    "2. PDF/HTML of your Jupyter Notebook;\n",
    "3. All text or .csv files exported as part of the exercises.\n",
    "\n",
    "#### Important Notes: \n",
    "- **You are ONLY allowed to use any library from the Python STL (see here https://docs.python.org/3/library/).**\n",
    "- **Comment your code properly, which includes naming your variables in a meaningful manner. Badly documented code will be penalized.**</b>\n",
    "- **Submissions in non .zip format will be penalize with 2 points.**\n",
    "\n",
    "Submission is done through the respective Moodle activity.\\\n",
    "Deadline is **2022-10-02**, a Sunday, at 23:59.\\\n",
    "A penality of 1 point per day late will be applied to late deliveries."
   ]
  },
  {
   "cell_type": "markdown",
   "metadata": {},
   "source": [
    "## Group Registration\n",
    "\n",
    "Edit this cell with the information of the authors of this submission.\n",
    "\n",
    "|      |     Student Name     |     Student ID     | \n",
    "|---   |         ---          |           ---          |\n",
    "| 1    |      Duarte Girão        |       20220670         | \n",
    "| 2    |      Miguel Ramos        |       20210581         | "
   ]
  },
  {
   "cell_type": "markdown",
   "metadata": {},
   "source": [
    "# <span style=\"color:brown\"> Part 1 -  Variable Declaration and Manipulation </span> \n",
    "\n",
    "## Exercise I - of Lists and Random numbers\n",
    "\n",
    "**Q**: Declare a variable X that stores a list of 100 integers randomly sampled between -25 and 25.<br>\n",
    "Note: You are not allowed to use Numpy or Scipy."
   ]
  },
  {
   "cell_type": "code",
   "execution_count": 1,
   "metadata": {},
   "outputs": [
    {
     "name": "stdout",
     "output_type": "stream",
     "text": [
      "Variable X was created, equaling the following list: [22, -11, 7, 7, 23, 5, 8, 6, -15, -18, -17, -4, 7, -13, -3, -3, -15, 2, 18, 6, -4, 12, -22, 12, -25, -19, 5, -8, 21, -9, -24, -4, -21, 3, -7, 2, 13, 22, 10, 24, -10, -18, -23, -18, -12, -5, -2, 1, 8, -9, -1, -4, -6, 2, 1, -10, 13, -8, -2, 15, -19, -8, 24, -20, -24, 8, -2, -19, -4, 8, 12, -4, 25, 2, 18, 2, -25, -8, -7, 2, 15, -14, 22, -4, 9, 9, -20, -2, -22, 21, 20, 8, -14, 15, -24, -19, 11, 12, -16, -12]\n"
     ]
    }
   ],
   "source": [
    "# We start the exercise by importing a library from the Python STL called random,\n",
    "# which will be useful to randomly generate integer numbers between -25 and 25 with the randint() method.\n",
    "# We create an empty list X, which will be the list that will receive the randomly generated 100 integer numbers.\n",
    "# With a while-loop, we iterate over list X by adding each time a random integer between\n",
    "# -25 and 25 until filled with 100 integer numbers.\n",
    "# We finish the exercise by printing the list corresponding to this variable.\n",
    "\n",
    "import random\n",
    "X=[]\n",
    "while len(X)<100:\n",
    "    X.append(random.randint(-25,25))\n",
    "print(f\"Variable X was created, equaling the following list: {X}\")"
   ]
  },
  {
   "cell_type": "markdown",
   "metadata": {},
   "source": [
    "**Q**: How many odd numbers are in the list X? Check if the numbers that are even are exactly the same as the number of odd numbers, else discard the list and generate a new one.<br>\n",
    "Extra: Can you automatize this pipeline to avoid having to run multiple cells multiple times by hand?"
   ]
  },
  {
   "cell_type": "code",
   "execution_count": 2,
   "metadata": {},
   "outputs": [
    {
     "name": "stdout",
     "output_type": "stream",
     "text": [
      "There are 41 odd numbers in the original list X.\n",
      "Discarding the list as the odd numbers are not the same as the even numbers.\n",
      "The new list X is the following: [2, -21, -21, -13, 6, -1, 22, 9, -24, -21, 20, -24, 25, 1, -22, 17, -23, 20, 14, 1, -9, 6, 10, 1, 0, 10, -23, 20, 17, -19, 19, 4, -17, 21, -21, 3, -22, 8, 19, -23, -7, -25, 10, -20, 11, 5, -14, 0, 20, -14, -8, 6, 17, 0, -3, 21, -12, 4, -6, 16, 15, -25, 18, -3, -11, 10, -14, 13, -22, -24, 25, 15, 1, 4, 11, -21, -7, 1, -8, -3, -6, -13, 5, 11, 16, -6, -8, -21, 2, 7, 11, 20, -24, -12, 13, 4, 8, 10, -10, 12]\n",
      "Keeping the list, as we have 50 odd numbers and 50 even numbers.\n"
     ]
    }
   ],
   "source": [
    "# The first block of code will answer how many odd numbers are in the list X.\n",
    "# We start by defining two variables: odd_numbers and even_numbers, increasing by one\n",
    "# whenever the for-loop and the if-statement detects an odd number or even number in the list\n",
    "# randomly created in the exercise above. During the if-statement to check if a number is even,\n",
    "# we look at the value of the rest when the number is divided by 2. If the rest is 0 it means\n",
    "# the number is even, else means the number is odd.\n",
    "\n",
    "odd_numbers=0\n",
    "even_numbers=0\n",
    "for num in X:\n",
    "    if num%2!=0:\n",
    "        odd_numbers+=1\n",
    "    else:\n",
    "        even_numbers+=1\n",
    "print(f\"There are {odd_numbers} odd numbers in the original list X.\")\n",
    "\n",
    "# The second block of code we do what is asked in the second part of the question.\n",
    "# In the case that we have the same number of odd and even numbers, it will keep list X.\n",
    "# Else, it will discard list X, randomly generating a new list of 100 integer numbers\n",
    "# between -25 and 25 (with the same process seen before).\n",
    "# The while-loop will go on until the number of odd numbers equals the number\n",
    "# of even numbers. We end the question by printing the new final list X.\n",
    "\n",
    "if odd_numbers==even_numbers:\n",
    "    print(f\"There are {odd_numbers} odd numbers and {even_numbers} even numbers, so we keep the list.\")\n",
    "    print(f\"The list that was kept is the following: {X}.\")\n",
    "else:\n",
    "    print(\"Discarding the list as the odd numbers are not the same as the even numbers.\")\n",
    "    while odd_numbers!=even_numbers:\n",
    "        X=[]\n",
    "        odd_numbers=0\n",
    "        even_numbers=0\n",
    "        while len(X)<100:\n",
    "            X.append(random.randint(-25,25))\n",
    "        for num in X:\n",
    "            if num%2!=0:\n",
    "                odd_numbers+=1\n",
    "            else:\n",
    "                even_numbers+=1\n",
    "    print(f\"The new list X is the following: {X}\")\n",
    "    print(f\"Keeping the list, as we have {odd_numbers} odd numbers and {even_numbers} even numbers.\")"
   ]
  },
  {
   "cell_type": "markdown",
   "metadata": {},
   "source": [
    "**Q**: Print the number of digits on the 5th and 100th element of the list. <br>\n",
    "Note: For instance, the number 1 contains one digit, the number 10 contains two digits, the number -2 contains one digit."
   ]
  },
  {
   "cell_type": "code",
   "execution_count": 3,
   "metadata": {},
   "outputs": [
    {
     "name": "stdout",
     "output_type": "stream",
     "text": [
      "The number of digits on the 5th element is 1.\n",
      "The number of digits on the 100th element is 2.\n"
     ]
    }
   ],
   "source": [
    "# We create a dictionary to store the integers that are in the 5th and 100th position\n",
    "# of the previously created list.\n",
    "# Then, we iterate over the elements of this dictionary.\n",
    "# For positive integers we convert the integer into a string and then we measure the length of the string.\n",
    "# For negative integers, we go through the same process but we have to subtract 1 since\n",
    "# len() considers the sign \"-\" as a digit.\n",
    "# For each element in the dictionary, we print the corresponding number of digits.\n",
    "\n",
    "elements={\"5th\":X[4],\"100th\":X[99]}\n",
    "for el,num in elements.items():\n",
    "    if num>=0:\n",
    "        num_digits=len(str(num))\n",
    "        print(f\"The number of digits on the {el} element is {num_digits}.\")\n",
    "    else:\n",
    "        num_digits=len(str(num))-1\n",
    "        print(f\"The number of digits on the {el} element is {num_digits}.\")"
   ]
  },
  {
   "cell_type": "markdown",
   "metadata": {},
   "source": [
    "**Q:** Is the sum of all the numbers in the list even or odd?"
   ]
  },
  {
   "cell_type": "code",
   "execution_count": 4,
   "metadata": {},
   "outputs": [
    {
     "name": "stdout",
     "output_type": "stream",
     "text": [
      "The sum of all numbers is -34, and then it is an even number.\n"
     ]
    }
   ],
   "source": [
    "# In the first block of code we create the variable sum_of_X\n",
    "# by summing each element of the list X.\n",
    "\n",
    "sum_of_X=sum(X)\n",
    "\n",
    "#In the second block of code, by checking if the sum is divisible by 2\n",
    "#we draw our conclusion, printing the result and if the number is odd or even.\n",
    "\n",
    "if sum_of_X%2==0:\n",
    "    print(f\"The sum of all numbers is {sum_of_X}, and then it is an even number.\")\n",
    "else:\n",
    "    print(f\"The sum of all numbers is {sum_of_X}, and then it is an odd number.\")"
   ]
  },
  {
   "cell_type": "markdown",
   "metadata": {},
   "source": [
    "**Q**: What is the average of all the numbers in the list? What is the standard deviation? <br>"
   ]
  },
  {
   "cell_type": "code",
   "execution_count": 5,
   "metadata": {},
   "outputs": [
    {
     "name": "stdout",
     "output_type": "stream",
     "text": [
      "The average of all numbers is -0.34, while the standard deviation is 14.86.\n"
     ]
    }
   ],
   "source": [
    "# To solve this we can import Python STL Statistics Library, which provides functions\n",
    "# for calculating mathematical statistics of numeric data. The methods that we are\n",
    "# going to use are: .mean(), which measures the arithmetic mean (“average”) of data, and \n",
    "# .stdev(), which measures the sample standard deviation of data.\n",
    "\n",
    "import statistics\n",
    "\n",
    "average_X=statistics.mean(X)\n",
    "stdev_X=statistics.stdev(X)\n",
    "print(f\"The average of all numbers is {round(average_X,2)}, while the standard deviation is {round(stdev_X,2)}.\")"
   ]
  },
  {
   "cell_type": "markdown",
   "metadata": {},
   "source": [
    "**Q**: Sort list X in descending order and store the result in variable Xsort. <br>\n",
    "Then replace each value in Xsort with index i as the sum of the values with index i-1 and i. <br> *Per definition Xsort[-1] = 0.*"
   ]
  },
  {
   "cell_type": "code",
   "execution_count": 6,
   "metadata": {
    "scrolled": true
   },
   "outputs": [
    {
     "name": "stdout",
     "output_type": "stream",
     "text": [
      "The final list is the following: [25, 50, 72, 93, 114, 134, 154, 174, 194, 214, 233, 252, 270, 287, 304, 321, 337, 353, 368, 383, 397, 410, 423, 435, 446, 457, 468, 479, 489, 499, 509, 519, 529, 538, 546, 554, 561, 567, 573, 579, 584, 589, 593, 597, 601, 605, 608, 610, 612, 613, 614, 615, 616, 617, 617, 617, 617, 616, 613, 610, 607, 601, 595, 589, 582, 575, 567, 559, 551, 542, 532, 521, 509, 497, 484, 471, 457, 443, 429, 412, 393, 373, 352, 331, 310, 289, 268, 247, 225, 203, 181, 158, 135, 112, 88, 64, 40, 16, -9, -34]\n"
     ]
    }
   ],
   "source": [
    "# In the first block of code, we create a new list called Xsort, which sorts list X in descending order.\n",
    "\n",
    "Xsort=sorted(X,reverse=True)\n",
    "\n",
    "# In the second block of code, we replace each value in Xsort with index i as the sum of the values\n",
    "# with index i-1 (already previously replaced) and i. Important to notice that during the for-loop we only sum\n",
    "# the integer to the previous integer from the 2nd position on, as per definition Xsort[-1]=0\n",
    "# and so the value of the 1st position will remain unchanged.\n",
    "# When we look at the last index of Xsort, it is indeed equal to the sum of all elements of X,\n",
    "# previously calculated. What this list is doing is a cumulative sum until each one of its indexes.\n",
    "\n",
    "for i in range(len(Xsort)):\n",
    "    if i!=0:\n",
    "        Xsort[i]+=Xsort[i-1]\n",
    "print(f\"The final list is the following: {Xsort}\")"
   ]
  },
  {
   "cell_type": "markdown",
   "metadata": {},
   "source": [
    "## Exercise II - We have a gamer in the room\n",
    "\n",
    "**Q**: Consider the dictionaries  *purchases* and *clients* that are declared in the cells below. <br>\n",
    "1. Create a list with the names of the clients who bought more than one videogame. \n",
    "2. Print the List. <br>\n",
    "3. What is the name of the client that bought more videogames?\n",
    "\n",
    "TIP: You will want to check the methods associated with string manipulation. See the link: <br>\n",
    "https://python-reference.readthedocs.io/en/latest/docs/unicode/index.html"
   ]
  },
  {
   "cell_type": "code",
   "execution_count": 7,
   "metadata": {},
   "outputs": [],
   "source": [
    "# (Notice There are different games associated to each key)\n",
    "\n",
    "purchases = {\n",
    "    \n",
    "    \"1539\":\"Red dead redemption II\",\n",
    "    \"9843\":\"GTA V,FarCry 5\",\n",
    "    \"8472\":\"Canis Canem Edit\",\n",
    "    \"3874\":\"Watchdogs II,South Park: The Stick of Truth\",\n",
    "    \"5783\":\"AC: The Ezio Collection\",\n",
    "    \"9823\":\"For Honor,The Forest,South Park: The Fractured but whole\"\n",
    "    \n",
    "}"
   ]
  },
  {
   "cell_type": "code",
   "execution_count": 8,
   "metadata": {},
   "outputs": [],
   "source": [
    "clients = {\n",
    "    \n",
    "    \"1539\":\"Rick Sanchez\",\n",
    "    \"9843\":\"Morty Smith\",\n",
    "    \"8472\":\"Eve Polastri\",\n",
    "    \"3874\":\"Mildred Ratched\",\n",
    "    \"5783\":\"Alex Vause\",\n",
    "    \"9823\":\"Sheldon Cooper\"\n",
    "    \n",
    "}"
   ]
  },
  {
   "cell_type": "code",
   "execution_count": 9,
   "metadata": {},
   "outputs": [
    {
     "name": "stdout",
     "output_type": "stream",
     "text": [
      "The list with the names of the clients who bought more than one game is the following: ['Morty Smith', 'Mildred Ratched', 'Sheldon Cooper'].\n",
      "The client who bought more games was Sheldon Cooper, and bought 3 games.\n"
     ]
    }
   ],
   "source": [
    "# In the first block of code, we are creating a dictionary called games_by_client_code\n",
    "# that identifies the number of games bought by each client. We do this by creating\n",
    "# an empty dictionary that will receive as key the code of each client and\n",
    "# as respective value the number of games bought.\n",
    "# For this, we create a for-loop that will attach to each key a list of the games bought\n",
    "# for each client. In the second for-loop we measure the size of each one of the lists\n",
    "# so that we get the number of games bought by each client.\n",
    "\n",
    "games_by_client_code={}\n",
    "for client_code,games in purchases.items():\n",
    "    games_by_client_code[client_code]=games.split(\",\")\n",
    "for client_code,games in games_by_client_code.items():\n",
    "    games_by_client_code[client_code]=len(games)\n",
    "\n",
    "# In the second block of code, we created an empty list called games_by_client_name\n",
    "# and using a for-loop we are attaching to it the name of each client as a key coming\n",
    "# from the dictionary clients and attaching as the respective value the number of\n",
    "# games bought obtained from the values of the dictionary previously created called\n",
    "# games_by_client_code.\n",
    "\n",
    "games_by_client_name={}\n",
    "for client_code,numb_games in games_by_client_code.items():\n",
    "    games_by_client_name[clients[client_code]]=numb_games\n",
    "\n",
    "# To answer the first question we are going to iterate through the dictionary previously created\n",
    "# called games_by_client_name. For this, we create an empty list called more_than_1_game. Through the\n",
    "# iteration if a client bought more than one, we are going to append his name to list more_than_1_game\n",
    "# we finish this block of code by printing the list of the names of the clients who bought more\n",
    "# then one game.\n",
    "\n",
    "more_than_1_game=[]\n",
    "for client_name,numb_games in games_by_client_name.items():\n",
    "    if numb_games>1:\n",
    "        more_than_1_game.append(client_name)\n",
    "print(f\"The list with the names of the clients who bought more than one game is the following: {more_than_1_game}.\")\n",
    "\n",
    "# Finally, to understand the client who bought more games and how many,\n",
    "# we use a for-loop to iterate over the items of the dictionary games_by_client_name,\n",
    "# when the if condition detects the maximum number of games bought (in the values of the list)\n",
    "# it will print the name and the number of games bought by that client.\n",
    "\n",
    "for client_name,numb_games in games_by_client_name.items():\n",
    "    if numb_games==max(games_by_client_name.values()):\n",
    "        print(f\"The client who bought more games was {client_name}, and bought {numb_games} games.\")"
   ]
  },
  {
   "cell_type": "markdown",
   "metadata": {},
   "source": [
    "# <span style=\"color:brown\"> Part 2 -  Data loading and analysis  </span>\n",
    "\n",
    "## Exercise I - Alice what do you have to say?\n",
    "\n",
    "Download the file alice.txt to the filepath (i.e., same folder) where you have your notebook."
   ]
  },
  {
   "cell_type": "markdown",
   "metadata": {},
   "source": [
    "**Q**: Load the Alice text file into a variable called Alice. Use a relative filepath in relation to the location of your notebook. <br>\n",
    "Note: You are not allowed to use third-party libraries like Pandas."
   ]
  },
  {
   "cell_type": "code",
   "execution_count": 10,
   "metadata": {},
   "outputs": [
    {
     "name": "stdout",
     "output_type": "stream",
     "text": [
      "Alice was beginning to get very tired of sitting by her sister on the bank, and of having nothing to do: once or twice she had peeped into the book her sister was reading, but it had no pictures or conversations in it, <<and what is the use of a book>>. thought Alice <<without pictures or conversation?>>.\n"
     ]
    }
   ],
   "source": [
    "# In the relative path, it will look for a file in the directory where this script is running,\n",
    "# so we just have to type the name of the text file, since the text file and this homework \n",
    "# are in the same folder. We type in \"r\" since we only want to read the file, and not e.g.\n",
    "# modify or write something in the direct file. We end the exercise by printing the whole string\n",
    "# and closing the text file as we already passed its information to a string.\n",
    "\n",
    "alice = open(\"alice.txt\",\"r\")\n",
    "alice_string=alice.read()\n",
    "print(alice_string)\n",
    "alice.close()"
   ]
  },
  {
   "cell_type": "markdown",
   "metadata": {},
   "source": [
    "**Q**: Create a list in which each element is a word from the file Alice. Store that list in a variable called wAlice. <br>\n",
    "Note: You will need to do some text parsing here. In particular to **split the sentences into words**. It is also a good practice to **normalize words** so that words \"Hello\" and \"hello\" become identical, by making all letters lower case. <br>\n",
    "Tip: check the following links for a discussion on regular expressions. Also consult the methods available for string manipulation.\n",
    "\n",
    "https://docs.python.org/3/library/re.html\n",
    "\n",
    "https://stackoverflow.com/questions/1276764/stripping-everything-but-alphanumeric-chars-from-a-string-in-python"
   ]
  },
  {
   "cell_type": "code",
   "execution_count": 11,
   "metadata": {},
   "outputs": [
    {
     "name": "stdout",
     "output_type": "stream",
     "text": [
      "The wAlice list will be the following: ['alice', 'was', 'beginning', 'to', 'get', 'very', 'tired', 'of', 'sitting', 'by', 'her', 'sister', 'on', 'the', 'bank', 'and', 'of', 'having', 'nothing', 'to', 'do', 'once', 'or', 'twice', 'she', 'had', 'peeped', 'into', 'the', 'book', 'her', 'sister', 'was', 'reading', 'but', 'it', 'had', 'no', 'pictures', 'or', 'conversations', 'in', 'it', 'and', 'what', 'is', 'the', 'use', 'of', 'a', 'book', 'thought', 'alice', 'without', 'pictures', 'or', 'conversation'].\n"
     ]
    }
   ],
   "source": [
    "# We start the exercise by importing a library from the Python STL called re\n",
    "# used for regular expressing matching operations.\n",
    "\n",
    "import re\n",
    "\n",
    "# Then, we use the sub() method that allows us to substitute a portion of a string for\n",
    "# a new desired string. In this case, we are looking for r\"\\W+\" because we want\n",
    "# to substitute anything that isn't a letter for a space. We included\n",
    "# the \"+\" because we want it to substitute the entire non-letter expressions\n",
    "# (every time it detects one or more characters) with a single space. We add the method lower\n",
    "# at the end of the variable assignment to normalize words.\n",
    "\n",
    "clean_alice_string=re.sub(r\"\\W+\",\" \",alice_string).lower()\n",
    "\n",
    "# We finally obtain the list wAlice by splitting the string by the spaces\n",
    "# between each word. To finish the exercise we print the new list.\n",
    "\n",
    "wAlice=clean_alice_string.split()\n",
    "print(f\"The wAlice list will be the following: {wAlice}.\")"
   ]
  },
  {
   "cell_type": "markdown",
   "metadata": {},
   "source": [
    "#### Using the list wAlice answer the following questions:<br>\n",
    "**Q**: How many words contains the text file Alice.txt? <br>"
   ]
  },
  {
   "cell_type": "code",
   "execution_count": 12,
   "metadata": {},
   "outputs": [
    {
     "name": "stdout",
     "output_type": "stream",
     "text": [
      "The number of words in the wAlice list is: 57.\n"
     ]
    }
   ],
   "source": [
    "# Printing the number of words in the list wAlice.\n",
    "\n",
    "numb_words=len(wAlice)\n",
    "print(f\"The number of words in the wAlice list is: {numb_words}.\")"
   ]
  },
  {
   "cell_type": "markdown",
   "metadata": {},
   "source": [
    "**Q**: What is the longest and smallest word in the text file? (Length here is measured in terms of the number of characters)<br>"
   ]
  },
  {
   "cell_type": "code",
   "execution_count": 13,
   "metadata": {},
   "outputs": [
    {
     "name": "stdout",
     "output_type": "stream",
     "text": [
      "The smallest word is the word: a, with 1 character.\n",
      "The biggest word is the word: conversations, with 13 characters.\n"
     ]
    }
   ],
   "source": [
    "# We start by defining the minimum value that the max length can take\n",
    "# and defining the maximum value that the min length can take.\n",
    "# Then we iterate through the words of wAlice and we change the\n",
    "# defined variables every time the length of a word is bigger than the previous bigger word\n",
    "# and every time the length of a word is smaller than the previous smaller word.\n",
    "# We finish the exercise by printing each one of the words and their corresponding size.\n",
    "\n",
    "max_len=0\n",
    "min_len=9e99\n",
    "for word in wAlice:\n",
    "    if len(word)>max_len:\n",
    "        max_len=len(word)\n",
    "        big_word=word\n",
    "    elif len(word)<min_len:\n",
    "        min_len=len(word)\n",
    "        small_word=word\n",
    "print(f\"The smallest word is the word: {small_word}, with {min_len} character.\")\n",
    "print(f\"The biggest word is the word: {big_word}, with {max_len} characters.\")"
   ]
  },
  {
   "cell_type": "markdown",
   "metadata": {},
   "source": [
    "**Q**: Delete all the repeated words from wAlice. How many different words does the text contain?"
   ]
  },
  {
   "cell_type": "code",
   "execution_count": 14,
   "metadata": {},
   "outputs": [
    {
     "name": "stdout",
     "output_type": "stream",
     "text": [
      "The text contains 41 different words.\n"
     ]
    }
   ],
   "source": [
    "# To create a list with unique words, we are going to transform the list wAlice into a set, since\n",
    "# a set only keeps the unique values. Then for the wAlice to keep the same structure as before\n",
    "# we are going to transform it again into a list. We measure the size of this unique list.\n",
    "\n",
    "unique_wAlice=list(set(wAlice))\n",
    "size_unique_wAlice=len(unique_wAlice)\n",
    "print(f\"The text contains {size_unique_wAlice} different words.\")"
   ]
  },
  {
   "cell_type": "markdown",
   "metadata": {},
   "source": [
    "## Exercise II - I Love Economics\n",
    "\n",
    "Consider the list *countries* in the cell below. <br>\n",
    "It consists of a list of the 3-digit ISO codes of a set of countries of interest."
   ]
  },
  {
   "cell_type": "code",
   "execution_count": 15,
   "metadata": {},
   "outputs": [],
   "source": [
    "countries = [\n",
    "\n",
    "('PRT','Portugal','Europe'),\n",
    "('ISL','Israel','Asia'),\n",
    "('COL','Colombia','South America'),\n",
    "('NEV','Nevada','North America'),\n",
    "('JPN','Japan','Asia'),\n",
    "('RUS','Russia','well... which part?'),\n",
    "('DEN','Denmark','Europe'),\n",
    "('NOR','Norway','Europe')\n",
    "    \n",
    "]"
   ]
  },
  {
   "cell_type": "markdown",
   "metadata": {},
   "source": [
    "**Now consider the file cdata.csv that you should download.** <br>\n",
    "The file contains several information about countries, and is organized as follows:\n",
    "1. Column 1 is the 3-digit ISO Code\n",
    "2. Column 2 is the Full name of the country\n",
    "3. Column 3 is the Continent in which the continent\n",
    "4. Column 4 is the population size in 2010\n",
    "5. Column 5 is the gdp per capita in 2010"
   ]
  },
  {
   "cell_type": "code",
   "execution_count": 16,
   "metadata": {},
   "outputs": [],
   "source": [
    "# We start by importing csv, which is a library that allows csv\n",
    "# reading and writing. Then, we open the cdata.csv file in a reading format.\n",
    "\n",
    "import csv\n",
    "cdata=open(\"cdata.csv\",\"r\")"
   ]
  },
  {
   "cell_type": "markdown",
   "metadata": {},
   "source": [
    "**Q**: Load the file cdata.csv into an object called RAW. <br> Create a dictionary called cData in which the key is the 3-digit ISO Code and the value is a tuple with the information contained in the 2nd to the 5th of column of the cdata file."
   ]
  },
  {
   "cell_type": "code",
   "execution_count": 17,
   "metadata": {},
   "outputs": [
    {
     "name": "stdout",
     "output_type": "stream",
     "text": [
      "{'iso': ('countryname', 'continent', 'population(mil)', 'gdp'), 'ago': ('Angola', 'Africa', '23.36913109', '5988.534997'), 'bdi': ('Burundi', 'Africa', '8.766929626', '731.4232803'), 'ben': ('Benin', 'Africa', '9.199258804', '1919.996948'), 'bfa': ('Burkina Faso', 'Africa', '15.60521698', '1327.216531'), 'bwa': ('Botswana', 'Africa', '2.014866114', '12256.14159'), 'caf': ('Central African Republic', 'Africa', '4.448524952', '865.4421867'), 'cmr': ('Cameroon', 'Africa', '19.97049522', '2684.97289'), 'cod': ('Democratic Republic of the Congo', 'Africa', '64.52326202', '634.9713963'), 'cog': ('Republic of the Congo', 'Africa', '4.386693001', '4979.990496'), 'com': ('Comoros', 'Africa', '0.68969202', '2292.997969'), 'cpv': ('Cape Verde', 'Africa', '0.502384007', '5644.821253'), 'dji': ('Djibouti', 'Africa', '0.851145983', '2124.442063'), 'dza': ('Algeria', 'Africa', '36.11763763', '12590.22422'), 'egy': ('Egypt', 'Africa', '84.10760498', '9148.839753'), 'eth': ('Ethiopia', 'Africa', '87.70266724', '1100.183188'), 'gab': ('Gabon', 'Africa', '1.640210032', '11961.16823'), 'gha': ('Ghana', 'Africa', '24.51210403', '3931.291832'), 'gin': ('Guinea', 'Africa', '10.79417038', '1742.734674'), 'gmb': ('Gambia', 'Africa', '1.692149043', '2681.858617'), 'gnb': ('Guinea-Bissau', 'Africa', '1.555879951', '1387.249731'), 'gnq': ('Equatorial Guinea', 'Africa', '0.951103985', '31416.88714'), 'ken': ('Kenya', 'Africa', '41.35015106', '2484.034909'), 'lbr': ('Liberia', 'Africa', '3.948124886', '786.6702307'), 'lso': ('Lesotho', 'Africa', '2.040550947', '2432.797655'), 'mar': ('Morocco', 'Africa', '32.40963745', '6421.937678'), 'mdg': ('Madagascar', 'Africa', '21.15163994', '1459.915612'), 'mli': ('Mali', 'Africa', '15.07508469', '1873.280962'), 'moz': ('Mozambique', 'Africa', '24.22140503', '969.2307623'), 'mrt': ('Mauritania', 'Africa', '3.609543085', '3082.647029'), 'mus': ('Mauritius', 'Africa', '1.247954965', '15178.32592'), 'mwi': ('Malawi', 'Africa', '15.16709518', '972.0456815'), 'nam': ('Namibia', 'Africa', '2.17317009', '7689.17124'), 'ner': ('Niger', 'Africa', '16.42557716', '845.8693682'), 'nga': ('Nigeria', 'Africa', '158.5782623', '5186.304308'), 'rwa': ('Rwanda', 'Africa', '10.24684238', '1379.699325'), 'sdn': ('Sudan', 'Africa', '34.38596344', '3608.785618'), 'sen': ('Senegal', 'Africa', '12.91622925', '2741.121456'), 'sle': ('Sierra Leone', 'Africa', '6.458720207', '1161.879694'), 'swz': ('Swaziland', 'Africa', '1.202842951', '7042.524359'), 'syc': ('Seychelles', 'Africa', '0.091404997', '17960.35308'), 'tcd': ('Chad', 'Africa', '11.88720226', '1880.374876'), 'tgo': ('Togo', 'Africa', '6.502952099', '1222.815053'), 'tun': ('Tunisia', 'Africa', '10.63993073', '10647.83498'), 'tza': ('Tanzania', 'Africa', '44.82893753', '1979.171864'), 'uga': ('Uganda', 'Africa', '33.91513443', '1723.594336'), 'zaf': ('South Africa', 'Africa', '51.58466339', '11388.64052'), 'zmb': ('Zambia', 'Africa', '13.85003281', '2870.887266'), 'zwe': ('Zimbabwe', 'Africa', '14.08631706', '1479.030584'), 'are': ('United Arab Emirates', 'Asia', '8.270684242', '59707.41257'), 'arm': ('Armenia', 'Asia', '2.877310991', '8222.945234'), 'aze': ('Azerbaijan', 'Asia', '9.032457352', '12947.1022'), 'bgd': ('Bangladesh', 'Asia', '152.1491089', '2411.102069'), 'bhr': ('Bahrain', 'Asia', '1.240862012', '37045.81311'), 'brn': ('Brunei', 'Asia', '0.38866201', '67320.89957'), 'btn': ('Bhutan', 'Asia', '0.727640986', '7235.189748'), 'chn': ('China', 'Asia', '1359.755127', '9337.290773'), 'cyp': ('Cyprus', 'Asia', '0.829446018', '28046.37388'), 'geo': ('Georgia', 'Asia', '4.231660843', '7966.602757'), 'hkg': ('Hong Kong', 'Asia', '7.025220871', '41687.94642'), 'ind': ('India', 'Asia', '1230.980713', '4357.059736'), 'irn': ('Iran', 'Asia', '74.56751251', '17328.45788'), 'irq': ('Iraq', 'Asia', '30.76270103', '9344.543768'), 'isr': ('Israel', 'Asia', '7.42595911', '28638.90374'), 'jor': ('Jordan', 'Asia', '7.182390213', '9351.387283'), 'jpn': ('Japan', 'Asia', '128.5518799', '36595.63364'), 'kaz': ('Kazakhstan', 'Asia', '16.39897537', '17908.83993'), 'kgz': ('Kyrgyzstan', 'Asia', '5.422337055', '3382.463906'), 'khm': ('Cambodia', 'Asia', '14.30873966', '2330.127208'), 'kor': ('South Korea', 'Asia', '49.55285645', '31589.70516'), 'kwt': ('Kuwait', 'Asia', '2.998083115', '67029.5168'), 'lao': ('Laos', 'Asia', '6.246273994', '4316.969859'), 'lbn': ('Lebanon', 'Asia', '4.337141037', '18025.24894'), 'lka': ('Sri Lanka', 'Asia', '20.19835281', '8390.429702'), 'mac': ('Macau', 'Asia', '0.536969006', '91982.39518'), 'mdv': ('Maldives', 'Asia', '0.364511013', '12140.80339'), 'mmr': ('Burma', 'Asia', '50.15589523', '3422.24134'), 'mng': ('Mongolia', 'Asia', '2.712650061', '7670.714034'), 'mys': ('Malaysia', 'Asia', '28.11228943', '17913.16441'), 'npl': ('Nepal', 'Asia', '27.02313614', '1996.196155'), 'omn': ('Oman', 'Asia', '3.041460037', '40472.67494'), 'pak': ('Pakistan', 'Asia', '170.5601807', '4171.416562'), 'phl': ('Philippines', 'Asia', '93.72662354', '5391.233965'), 'qat': ('Qatar', 'Asia', '1.779675961', '123128.4015'), 'sau': ('Saudi Arabia', 'Asia', '27.42567635', '42331.65886'), 'sgp': ('Singapore', 'Asia', '5.074252129', '58618.43503'), 'syr': ('Syria', 'Asia', '21.01883316', '5700.329439'), 'tha': ('Thailand', 'Asia', '67.2088089', '12496.24419'), 'tjk': ('Tajikistan', 'Asia', '7.641630173', '2784.514559'), 'tkm': ('Turkmenistan', 'Asia', '5.087210178', '16061.42941'), 'tur': ('Turkey', 'Asia', '72.32691193', '17930.67878'), 'twn': ('Taiwan', 'Asia', '23.14094734', '37188.89453'), 'uzb': ('Uzbekistan', 'Asia', '28.60629463', '6574.516725'), 'vnm': ('Vietnam', 'Asia', '88.47251129', '4428.421402'), 'yem': ('Yemen', 'Asia', '23.6067791', '4553.557258'), 'alb': ('Albania', 'Europe', '2.940525055', '9544.739919'), 'aut': ('Austria', 'Europe', '8.409949303', '40489.80636'), 'bel': ('Belgium', 'Europe', '10.93873882', '38177.94725'), 'bgr': ('Bulgaria', 'Europe', '7.40459013', '14906.78496'), 'bih': ('Bosnia and Herzegovina', 'Europe', '3.722084045', '9049.364733'), 'blr': ('Belarus', 'Europe', '9.473071098', '16457.02938'), 'che': ('Switzerland', 'Europe', '7.831971169', '55688.02021'), 'cze': ('Czech Republic', 'Europe', '10.53628635', '26129.56935'), 'deu': ('Germany', 'Europe', '80.89478302', '40627.23055'), 'dnk': ('Denmark', 'Europe', '5.554843903', '43416.22339'), 'esp': ('Spain', 'Europe', '46.78863144', '31610.98016'), 'est': ('Estonia', 'Europe', '1.332101941', '20265.5726'), 'fin': ('Finland', 'Europe', '5.365781784', '38394.06158'), 'fra': ('France', 'Europe', '65.14578247', '35786.16161'), 'gbr': ('United Kingdom', 'Europe', '63.3068428', '34810.2812'), 'grc': ('Greece', 'Europe', '11.44600487', '25815.80077'), 'hrv': ('Croatia', 'Europe', '4.328153133', '19305.00809'), 'hun': ('Hungary', 'Europe', '9.927840233', '20477.79857'), 'irl': ('Ireland', 'Europe', '4.626927853', '47823.50815'), 'isl': ('Iceland', 'Europe', '0.320327997', '37729.01608'), 'ita': ('Italy', 'Europe', '59.72980881', '34727.67269'), 'ltu': ('Lithuania', 'Europe', '3.1238029', '18475.37115'), 'lux': ('Luxembourg', 'Europe', '0.507888973', '57882.81021'), 'lva': ('Latvia', 'Europe', '2.118848085', '16943.68832'), 'mda': ('Moldova', 'Europe', '4.084480762', '4173.634753'), 'mkd': ('Macedonia', 'Europe', '2.070739031', '11265.64318'), 'mlt': ('Malta', 'Europe', '0.416110009', '22983.44993'), 'mne': ('Montenegro', 'Europe', '0.624284983', '14960.94855'), 'nld': ('Netherlands', 'Europe', '16.68291664', '44004.14602'), 'nor': ('Norway', 'Europe', '4.885878086', '73262.68174'), 'pol': ('Poland', 'Europe', '38.3234024', '21006.02731'), 'prt': ('Portugal', 'Europe', '10.65232086', '25788.27397'), 'rou': ('Romania', 'Europe', '20.44034767', '16775.60904'), 'rus': ('Russia', 'Asia', '143.1538696', '21754.0679'), 'srb': ('Serbia', 'Europe', '7.291436195', '12453.48255'), 'svk': ('Slovakia', 'Europe', '5.404294014', '23061.12099'), 'svn': ('Slovenia', 'Europe', '2.045167923', '25831.33129'), 'swe': ('Sweden', 'Europe', '9.39016819', '40421.90644'), 'ukr': ('Ukraine', 'Europe', '45.79249954', '8713.259627'), 'abw': ('Aruba', 'NorthAmerica', '0.101668999', '37059.34144'), 'aia': ('Anguilla', 'NorthAmerica', '0.013769', '21098.05715'), 'atg': ('Antigua and Barbuda', 'NorthAmerica', '0.094660997', '17162.16103'), 'bhs': ('Bahamas', 'NorthAmerica', '0.360832006', '29504.58135'), 'blz': ('Belize', 'NorthAmerica', '0.321608007', '7145.952548'), 'bmu': ('Bermuda', 'NorthAmerica', '0.063956', '51447.14748'), 'brb': ('Barbados', 'NorthAmerica', '0.279569', '13995.6129'), 'can': ('Canada', 'NorthAmerica', '34.16866684', '40269.03527'), 'cri': ('Costa Rica', 'NorthAmerica', '4.54527998', '12106.99192'), 'cuw': ('CuraÃ§ao', 'NorthAmerica', '0.147607997', '24337.81618'), 'cym': ('Cayman Islands', 'NorthAmerica', '0.055507001', '36670.67848'), 'dma': ('Dominica', 'NorthAmerica', '0.071439996', '9101.99373'), 'dom': ('Dominican Republic', 'NorthAmerica', '9.897985458', '11500.13134'), 'grd': ('Grenada', 'NorthAmerica', '0.104676999', '9791.291133'), 'gtm': ('Guatemala', 'NorthAmerica', '14.63041687', '6359.262685'), 'hnd': ('Honduras', 'NorthAmerica', '8.194778442', '3789.910225'), 'hti': ('Haiti', 'NorthAmerica', '9.999616623', '1650.269713'), 'jam': ('Jamaica', 'NorthAmerica', '2.817209959', '6675.176956'), 'kna': ('Saint Kitts and Nevis', 'NorthAmerica', '0.051445', '17837.34976'), 'lca': ('Saint Lucia', 'NorthAmerica', '0.172580004', '9178.266991'), 'mex': ('Mexico', 'NorthAmerica', '117.3189392', '14507.01192'), 'msr': ('Montserrat', 'NorthAmerica', '0.004944', '15385.00299'), 'nic': ('Nicaragua', 'NorthAmerica', '5.737722874', '3992.761908'), 'pan': ('Panama', 'NorthAmerica', '3.643222094', '15055.23759'), 'slv': ('El Salvador', 'NorthAmerica', '6.164626122', '6096.958357'), 'tca': ('Turks and Caicos Islands', 'NorthAmerica', '0.030994', '7230.966075'), 'tto': ('Trinidad and Tobago', 'NorthAmerica', '1.328099966', '27510.23619'), 'usa': ('United States', 'NorthAmerica', '308.6413879', '49500.62628'), 'vct': ('Saint Vincent and the Grenadines', 'NorthAmerica', '0.109315', '8095.219231'), 'vgb': ('British Virgin Islands', 'NorthAmerica', '0.027224001', '21183.27917'), 'aus': ('Australia', 'Oceania', '22.12006378', '44854.90005'), 'fji': ('Fiji', 'Oceania', '0.859950006', '6902.068772'), 'nzl': ('New Zealand', 'Oceania', '4.370061874', '30867.05438'), 'arg': ('Argentina', 'SouthAmerica', '41.2238884', '15841.65821'), 'bol': ('Bolivia', 'SouthAmerica', '9.918242455', '4806.608983'), 'bra': ('Brazil', 'SouthAmerica', '196.7962646', '13541.46256'), 'chl': ('Chile', 'SouthAmerica', '16.9933548', '18092.94007')}\n"
     ]
    }
   ],
   "source": [
    "# Firstly, we use cvs.reader as we want to get a reader object which will\n",
    "# then allow us to iterate over the several lines in the cdata.csv file.\n",
    "# We load the file into an object called RAW.\n",
    "\n",
    "RAW=csv.reader(cdata, delimiter=\",\")\n",
    "\n",
    "# We create an empty dictionary called cData that will receive as the keys the 3-digit\n",
    "# ISO Code and as respective values the information contained in the 2nd to the 5th \n",
    "# column of the cdata file.\n",
    "# To perform this we are going to iterate over each row of RAW and we are going\n",
    "# to define the first index of each row as the key and all the other indexes\n",
    "# of the same line as the values storing them in a tuple.\n",
    "# We end the exercise by printing the new filled dictionary.\n",
    "\n",
    "cData={}\n",
    "for row in RAW:\n",
    "    cData[row[0]]=tuple(row[1:])\n",
    "print(cData)"
   ]
  },
  {
   "cell_type": "markdown",
   "metadata": {},
   "source": [
    "**Q**: Using cData, identify what is the most common Continent among the Nations in the list countries."
   ]
  },
  {
   "cell_type": "code",
   "execution_count": 18,
   "metadata": {},
   "outputs": [
    {
     "name": "stdout",
     "output_type": "stream",
     "text": [
      "One of the most common Continents among the Nations is Asia, being represented 3 times.\n",
      "One of the most common Continents among the Nations is Europe, being represented 3 times.\n"
     ]
    }
   ],
   "source": [
    "# In the first block of code, we are identifying the countries and the US state\n",
    "# that are in the list of countries.\n",
    "\n",
    "countries_name=[]\n",
    "for tuple1 in countries:\n",
    "    countries_name.append(tuple1[1])\n",
    "\n",
    "# In the second block of code, we are going to use the name of the country and\n",
    "# not the ISO code because there are several discrepancies in the ISO codes.\n",
    "# We open an empty dictionary to store the number of presences of each continent.\n",
    "# Then we iterate over the items of the csv file, and in the case of the name of the\n",
    "# country is in the list countries_name (we previously created) we are going to\n",
    "# add the respective continent to our newly created dictionary. We create an\n",
    "# if-statement for this that in case the continent still doesn't exist it will\n",
    "# create the key in the dictionary, and in the case that it exists it will just sum 1\n",
    "# more occurence.\n",
    "\n",
    "# Colombia was not considered to the continent_counter as it is not in the cData file,\n",
    "# and since the exercise aims to use the cData file to identify the continent.\n",
    "# Nonetheless, it wouldn't make any difference in the final answer. Going ahead, we are\n",
    "# also not using Colombia, as we have no data in the CData file about population and gdp.\n",
    "\n",
    "continent_counter={}\n",
    "for iso,info in cData.items():\n",
    "    if info[0] in countries_name:\n",
    "        if info[1] not in continent_counter.keys():\n",
    "            continent_counter[info[1]]=1\n",
    "        else:\n",
    "            continent_counter[info[1]]+=1\n",
    "            \n",
    "# Lastly, we are going to iterate with the items of the new dictionary\n",
    "# to find out which continent has the higher (maximum) number of occurences.\n",
    "# We print the conclusion.\n",
    "\n",
    "for cont,numb in continent_counter.items():\n",
    "    if numb==max(continent_counter.values()):\n",
    "        print(f\"One of the most common Continents among the Nations is {cont}, being represented {numb} times.\")"
   ]
  },
  {
   "cell_type": "markdown",
   "metadata": {},
   "source": [
    "**Q**: Using cData, identify the most populated nation among the countries list."
   ]
  },
  {
   "cell_type": "code",
   "execution_count": 19,
   "metadata": {},
   "outputs": [
    {
     "name": "stdout",
     "output_type": "stream",
     "text": [
      "The most populated nation is Russia with 143.15 million people.\n"
     ]
    }
   ],
   "source": [
    "# We start by creating an empty dictionary that is going to receive\n",
    "# as key, the name of each country of the countries list and will receive\n",
    "# as respective value the population of each one of these countries.\n",
    "# We are going to iterate through the items of cData and in the case\n",
    "# that one of the countries is in the countries list we are going to add its name\n",
    "# and respective population to the countries_population dictionary.\n",
    "# We transform each one of the populations from a string to a float.\n",
    "\n",
    "countries_population={}\n",
    "for iso,info in cData.items():\n",
    "    if info[0] in countries_name:\n",
    "        countries_population[info[0]]=float(info[2])\n",
    "\n",
    "# We are going to iterate through the items of the newly created dictionary\n",
    "# and we are going to print the name of the country and respective population\n",
    "# that has the higher population. We round the number of decimal places of \n",
    "# the population to 2.\n",
    "\n",
    "for country,pop in countries_population.items():\n",
    "    if pop==max(countries_population.values()):\n",
    "        print(f\"The most populated nation is {country} with {round(pop,2)} million people.\")"
   ]
  },
  {
   "cell_type": "markdown",
   "metadata": {},
   "source": [
    "**Q**: Compare the average GDP per capita of the Nations in countries list, with all the countries in the cData file. How they compare?"
   ]
  },
  {
   "cell_type": "code",
   "execution_count": 20,
   "metadata": {},
   "outputs": [
    {
     "name": "stdout",
     "output_type": "stream",
     "text": [
      "The Average GDP per capita of all countries in the csv (excluding the countries in the list countries) is smaller (12453) than the Average GDP of the countries in the list (29661).\n",
      "The country Israel has a higher GDP per Capita (28639) than the csv average GDP per Capita (12453).\n",
      "The country Japan has a higher GDP per Capita (36596) than the csv average GDP per Capita (12453).\n",
      "The country Denmark has a higher GDP per Capita (43416) than the csv average GDP per Capita (12453).\n",
      "The country Norway has a higher GDP per Capita (73263) than the csv average GDP per Capita (12453).\n",
      "The country Portugal has a higher GDP per Capita (25788) than the csv average GDP per Capita (12453).\n",
      "The country Russia has a higher GDP per Capita (21754) than the csv average GDP per Capita (12453).\n"
     ]
    }
   ],
   "source": [
    "# In this exercise, we are going to draw 2 comparisons: The 1st between the average gdp of the countries\n",
    "# in the list and the average gdp of the countries in the csv file (excluding the countries in the countries list);\n",
    "# The 2nd between the gdp of each one of the countries in the list and the average\n",
    "# gdp of the countries in the csv file(excluding the countries in the countries list).\n",
    "\n",
    "# In the first block of code, we are creating a totalizer for the gdp of the countries in the list\n",
    "# and a totalizer for the total population of the countries in the list, so that then we can divide\n",
    "# one by the other. Important to take into consideration that the gdp presented in the csv file is\n",
    "# the gdp per capita: to perform the exercise correctly and calculate the average GDP per capita\n",
    "# of all the countries we have to sum the multiplication of each GDP by the population of each country\n",
    "# and then divide the result by the total population of all the countries.\n",
    "\n",
    "# We iterate through the items of the csv file and in the case that they are present in the countries\n",
    "# list we perform the calculations described above and we add them to the respective totalizer.\n",
    "\n",
    "# We end this block of code by calculating the average gdp of the countries in the list.\n",
    "\n",
    "# Colombia was not considered due to the reasons we previously explained.\n",
    "\n",
    "total_gdp_countries_list=0\n",
    "total_population_list=0\n",
    "\n",
    "for iso,info in cData.items():\n",
    "    if info[0] in countries_name:\n",
    "        total_gdp_countries_list+=float(info[3])*float(info[2])\n",
    "        total_population_list+=float(info[2])\n",
    "average_gdp_countries_list=total_gdp_countries_list/total_population_list\n",
    "\n",
    "# In the second block of code, we go through the same process described above using the totalizers but now\n",
    "# for the countries of the csv file. There are 2 particularities: 1st we don't want to include\n",
    "# the first tuple of the csv items since it is the name of the columns; 2nd we don't want to include\n",
    "# the countries in the countries list in this average since they are the countries to which\n",
    "# we are going to compare this average.\n",
    "\n",
    "total_gdp_countries_csv=0\n",
    "total_population_csv=0\n",
    "\n",
    "for iso,info in cData.items():\n",
    "    if info[2]==\"population(mil)\":\n",
    "        pass\n",
    "    else:\n",
    "        if info[0] not in countries_name:\n",
    "            total_gdp_countries_csv+=float(info[2])*float(info[3])\n",
    "            total_population_csv+=float(info[2])\n",
    "average_gdp_countries_csv=total_gdp_countries_csv/total_population_csv\n",
    "\n",
    "# We finish the first comparison by drawing a conclusion. We round the value of the average gdps to\n",
    "# two decimal places.\n",
    "\n",
    "if average_gdp_countries_list>average_gdp_countries_csv:\n",
    "    print(f\"The Average GDP per capita of all countries in the csv (excluding the countries in the list countries) is smaller ({round(average_gdp_countries_csv)}) than the Average GDP of the countries in the list ({round(average_gdp_countries_list)}).\")\n",
    "else:\n",
    "    print(f\"The Average GDP per capita of all countries in the csv (excluding the countries in the list countriesis) higher ({round(average_gdp_countries_csv)}) than the Average GDP of the countries in the list ({round(average_gdp_countries_list)}).\")\n",
    "\n",
    "# In this second comparison, we are going to compare the gdp of each one of the countries on the list\n",
    "# to the average gdp of the countries in the csv file (excluding the countries in the countries list).\n",
    "# To draw comparisons we have to transform the numbers from strings to floats. We round the gdp per\n",
    "# capita to two decimal places.\n",
    "\n",
    "for iso,info in cData.items():\n",
    "    if info[0] in countries_name:\n",
    "        if float(info[3])>average_gdp_countries_csv:\n",
    "            print(f\"The country {info[0]} has a higher GDP per Capita ({round(float(info[3]))}) than the csv average GDP per Capita ({round(average_gdp_countries_csv)}).\")\n",
    "        else:\n",
    "            print(f\"The country {info[0]} has a lower GDP per Capita ({round(float(info[3]))}) than the the csv average GDP per Capita ({round(average_gdp_countries_csv)}).\")"
   ]
  },
  {
   "cell_type": "markdown",
   "metadata": {},
   "source": [
    "# <span style=\"color:brown\"> Part 3 - Functions hurt nobody </span>\n",
    "\n",
    "## Exercise I - I hate math\n",
    "\n",
    "Consider the following equation:\n",
    "\n",
    "\\begin{equation}\n",
    "    y = 6x^2 + 3x + 2\n",
    "\\end{equation}\n",
    "\n",
    "**Q**: write a function (called f) that takes one argument, x, and returns y according to the equation above. <br> Call the function for x = 2 and print the answer."
   ]
  },
  {
   "cell_type": "code",
   "execution_count": 21,
   "metadata": {},
   "outputs": [],
   "source": [
    "# Function f that takes one argument, x, and returns y\n",
    "# according to the equation stated in the exercise.\n",
    "\n",
    "def f(x):\n",
    "    if isinstance(x,int) or isinstance(x,float):\n",
    "        y=6*(x**2)+3*x+2\n",
    "        return y\n",
    "    else:\n",
    "        print(\"Please insert an integer or a float.\")"
   ]
  },
  {
   "cell_type": "markdown",
   "metadata": {},
   "source": [
    "Consider a sequence $x_n$ of numbers, defined as follows:\n",
    "\n",
    "$\n",
    "\\begin{align}\n",
    "    ~~~ ~~~ ~~~ ~~&x_0 = 0; ~~~ ~~~ ~~~ ~~ ~~~ ~~~ ~~~ ~~ ~~~ ~~~ ~~~ ~~ ~~~ ~~~ ~~ ~ \\\\\n",
    "    ~~~ ~~~ ~~~ ~~&x_{n} = x_{n-1} - n; ~~~ \\textit{ if} ~~~ x_{n-1}-n > 0 \\textit{ and not already in the sequence} \\\\\n",
    "    ~~~ ~~~ ~~~ ~~&x_{n} = x_{n-1} + n; ~~~ \\textit{ otherwise}~~~ ~~~ ~~~ ~~ \\\\\n",
    "\\end{align}\n",
    "$\n",
    "\n",
    "**Q**: Write a function that returns the nth digit of the above defined sequence. <br>\n",
    "Note: the above sequence is also known as the Recamán's sequence, and it was invnted by Bernardo Recamán Santos (Bogotá, Colombia)"
   ]
  },
  {
   "cell_type": "code",
   "execution_count": 22,
   "metadata": {},
   "outputs": [],
   "source": [
    "# In this exercise, we only allow 0 or positive integers.\n",
    "# In the first if-clause we create a specific condition for when the user types 0 it will return 0,\n",
    "# we do this because it is the only digit that doesn't follow a specific rule.\n",
    "\n",
    "# Then, in the else statement according to the digit that the user types we are going to build\n",
    "# the sequence until that nth digit. We iterate through the several digits using the range(x) function.\n",
    "# For each of the digits of the sequence, we go through the conditions defined above.\n",
    "# Every time we call the function nth_digit() inside the for-loop we add 1 to the digit since\n",
    "# we don't want it to start in 0 and end in n-1, but start in 1 and end in n as \n",
    "# 0 is already defined and n is our final index of interest. e.g: range(4): goes from 0 to 3, but\n",
    "# we want it to go from 1 to 4.\n",
    "\n",
    "# We finish the exercise by returning our index of interest.\n",
    "\n",
    "def nth_digit(x):\n",
    "    if x>=0 and isinstance(x,int):\n",
    "        sequence=[0]\n",
    "        if x==0:\n",
    "            return sequence[0]\n",
    "        else:\n",
    "            for num in range(x):\n",
    "                if nth_digit((num+1)-1)-(num+1)>0 and nth_digit((num+1)-1)-(num+1) not in sequence:\n",
    "                    sequence.append(nth_digit((num+1)-1)-(num+1))\n",
    "                else:\n",
    "                    sequence.append(nth_digit((num+1)-1)+(num+1))\n",
    "            return sequence[x]\n",
    "    else:\n",
    "        print(\"Please insert a non-negative integer.\")"
   ]
  },
  {
   "cell_type": "code",
   "execution_count": 23,
   "metadata": {},
   "outputs": [
    {
     "data": {
      "text/plain": [
       "[0, 1, 3, 6, 2, 7, 13, 20, 12, 21, 11, 22, 10, 23, 9]"
      ]
     },
     "execution_count": 23,
     "metadata": {},
     "output_type": "execute_result"
    }
   ],
   "source": [
    "# Although not requested, here is the sequence for the first 15 digits.\n",
    "\n",
    "list(map(nth_digit,[i for i in range(15)]))"
   ]
  },
  {
   "cell_type": "markdown",
   "metadata": {},
   "source": [
    "## Exercise II - Role Playing with Python\n",
    "\n",
    "**Q**: Create a function named randomNr that takes a number (e.g., m) as an argument and returns a random number from 1 to m."
   ]
  },
  {
   "cell_type": "code",
   "execution_count": 24,
   "metadata": {},
   "outputs": [],
   "source": [
    "# We are using the library random from the Python STL. The method\n",
    "# .randint() will allow us to obtain a random integer number\n",
    "# between 1 and m.\n",
    "\n",
    "# The function named randomNr takes a number as an argument and returns a random number\n",
    "# from 1 to m.\n",
    "\n",
    "import random\n",
    "def randomNr(m):\n",
    "    return random.randint(1,m)"
   ]
  },
  {
   "cell_type": "markdown",
   "metadata": {},
   "source": [
    "**Q**: Create a function named keyReturner that takes a number (n) and a dictionary (s) as arguments and returns n random keys from s."
   ]
  },
  {
   "cell_type": "code",
   "execution_count": 25,
   "metadata": {},
   "outputs": [],
   "source": [
    "# In this exercise, we are using the method .sample() which returns a list with\n",
    "# a random selection of a specified number of items from a sequence.\n",
    "\n",
    "# We create an if-else condition for the function to make sense,\n",
    "# there have to be at least as many elements in the list as the number n.\n",
    "\n",
    "# We transform the dictionary keys in a list in order to use it as an argument\n",
    "# in the .sample() method.\n",
    "\n",
    "def keyReturner(n,s):\n",
    "    if isinstance(n,int) and isinstance(s,dict):\n",
    "        if n>len(s):\n",
    "            print(\"You should include at maximum n keys.\")\n",
    "        else:\n",
    "            return random.sample(list(s.keys()),n)\n",
    "    else:\n",
    "        print(\"n has to be an integer and s has to be a dictionary.\")"
   ]
  },
  {
   "cell_type": "markdown",
   "metadata": {},
   "source": [
    "**Q**: Create a function named boolGen that takes a number (p) as argument and returns True with probability p, else it returns False.\n",
    "\n",
    "**NOTE:** Your function needs to consider if p is a number from 0 to 1 (and hence is the probability itself) or if p is between 0 to 100 (and hence is in percentage and needs to be changed to a probability). If the value inserted is inferior to 0 or bigger than 100 the function should assume p to be 0.5\n",
    "\n",
    "**To clarify**\n",
    "If p is 0.45 we will have a 45% chance to return True. If p is 55, it needs to be converted to 0.55 (having the same meaning as previously stated: 55% chance of returning true)"
   ]
  },
  {
   "cell_type": "code",
   "execution_count": 26,
   "metadata": {},
   "outputs": [],
   "source": [
    "# For this exercise, we are going to use the .choices() method from the random STL python library.\n",
    "# The choices() method returns a list with the randomly selected element from the specified sequence.\n",
    "# You can weigh the possibility of each result with the weights parameter or the cum_weights parameter.\n",
    "\n",
    "# We start the function by creating an if condition in order for the function to only accept\n",
    "# floats or integers, and to only accept d==1 if the user is using decimal numbers or d==0 \n",
    "# if the user is using percentages. Then, allow p to belong to the intervals defined in the statement.\n",
    "# We then use the .choices() method to return True or False according to the p defined.\n",
    "# When returning we have to index the number because of the result of the random.choices()\n",
    "# function is a list.\n",
    "\n",
    "def boolGen(p,d):\n",
    "    if (isinstance(p,int) or isinstance(p,float)) and (d==1 or d==0):\n",
    "        if p>=0 and p<=1 and d==1:\n",
    "            bool1=random.choices([True,False],weights=[p,1-p])\n",
    "            return bool1[0]\n",
    "        elif p>=0 and p<=100 and d==0:\n",
    "            bool1=random.choices([True,False],weights=[p,100-p])\n",
    "            return bool1[0]\n",
    "        elif p<0 or p>100 and (d==1 or d==0):\n",
    "            p=0.5\n",
    "            bool1=random.choices([True,False],weights=[p,1-p])\n",
    "            return bool1[0]\n",
    "    else:\n",
    "        print(\"For the 1st input, insert an integer or a float number.\") \n",
    "        print(\"For the 2nd input, insert 1 when using a decimal number and 0 when using a percentage.\")"
   ]
  },
  {
   "cell_type": "markdown",
   "metadata": {},
   "source": [
    "**Q**: Create a function named applyDiscount that receives a number (v) and a boolean (b) as arguments. If b is true then the function should apply a discount of 15% to the number, and return it. Otherwise it should return the number as is."
   ]
  },
  {
   "cell_type": "code",
   "execution_count": 27,
   "metadata": {},
   "outputs": [],
   "source": [
    "# We create an if-else statement to certify that in fact it is being\n",
    "# inserted a number (v) and a boolean (b) as arguments.\n",
    "\n",
    "# Since True=1 and False=0, we just have to subtract from the number(v) -0.15*v*b,\n",
    "# b will take the value of 1 if True (Discount) and will take the value of 0 if\n",
    "# False (No Discount).\n",
    "\n",
    "def applyDiscount(v,b):\n",
    "    if (isinstance(v,int) or isinstance(v,float)) and isinstance(b,bool):\n",
    "        return v-0.15*v*b\n",
    "    else:\n",
    "        print(\"The first argument has to be an integer or a float and the second argument has to be a boolean.\")"
   ]
  },
  {
   "cell_type": "markdown",
   "metadata": {},
   "source": [
    "**Q**: Create a function called customerSim. This function takes as an input two dictionaries (stock and prices). <br>\n",
    "Then it should perform the following steps:\n",
    "1. **Call randomNr** to generate a number between 1 and the maximum number of videogames available in the store's stock (this number will represent the number of videogames that will be purchased);\n",
    "2. **Call keyReturner**, passing the number of videogames that will be purchased obtained from 1. and the stock dictionary, in order to determine what are the codes of the videogames to be purchased;\n",
    "3. **Call applyDiscount** to each value in the customer order and combined with the boolGen, decide whether you apply a discount or not to each item;\n",
    "5. **Print the following message** \"Dear customer, your order of Y items has a total cost of X euros, and a 15% discount was applied to W items.\", replacing X,Y, W with the respective values.\n",
    "6. **Return a tuple** with the number of items ordered, total cost, and the total discount applied.\n",
    "\n",
    "- Run the function customerSim to simulate the orders of 10 clients."
   ]
  },
  {
   "cell_type": "code",
   "execution_count": 28,
   "metadata": {},
   "outputs": [],
   "source": [
    "# The function customerSim will take two dictionaries as inputs, stock and prices, having as key\n",
    "# the game key and as values the name of the game and the price, respectively.\n",
    " \n",
    "# In the first block of code using the previous functions created, we are going to choose a random\n",
    "# integer between 1 and the maximum number of games available. For this, we measure the size\n",
    "# of the list of stock.values(). The result of this function will be the number of games the client\n",
    "# wishes to buy.\n",
    "\n",
    "# Then, with the function keyreturner() we are going to decide which games to buy and include their\n",
    "# game keys in a list.\n",
    "\n",
    "# Finally, we open an empty dictionary where we will store as the key the game key the client\n",
    "# wishes to buy and as value the respective price that can be discounted or not.\n",
    "# To do this we iterate over the list games_purch and we fill the dictionary new_prices with the respective\n",
    "# game key and the price, that can be discounted or not, an output of the function applyDiscount().\n",
    "\n",
    "# We defined the probability of being discounted at 50% with the function boolGen().\n",
    "\n",
    "def customerSim(stock,prices):\n",
    "    numb_games_purch=randomNr(len(stock))\n",
    "    games_purch=keyReturner(numb_games_purch,stock)\n",
    "    new_prices={}\n",
    "    for game_key in games_purch:\n",
    "        new_prices[game_key]=applyDiscount(prices[game_key],boolGen(0.50,1))\n",
    "        \n",
    "# In the second block of code we create a totalizer for the total price paid (discounted) by the client.\n",
    "# To do this we iterate over the list of the values of the dictionary new_prices and we add\n",
    "# each one at the time to the totalizer.\n",
    "\n",
    "# Then, we want to check how many games were discounted. To do that we are going to iterate\n",
    "# with the list storing the name of the games that the client wants to buy. In the case that the new price\n",
    "# doesn't correspond to the old price(the prices on the dictionary prices) we are going to \n",
    "# append the name of the game to the new list games_discounted. We then measure the size\n",
    "# of this list.\n",
    "\n",
    "    total_price=0\n",
    "    for price in new_prices.values():\n",
    "        total_price+=price\n",
    "    games_discounted=[]\n",
    "    for game_key in games_purch:\n",
    "        if prices[game_key]!=new_prices[game_key]:\n",
    "            games_discounted.append(game_key)\n",
    "    number_discounts=len(games_discounted)\n",
    "    \n",
    "# Now to calculate the discount we are just missing the cost of these specific games before\n",
    "# the discount. To calculate this we are going to create a totalizer for the total price (pre-discount)\n",
    "# and then for each game on the list games_purch we are going to add the price in the dictionary\n",
    "# prices to the totalizer, one at a time, all adding up to the total price pre-discount.\n",
    "# Then we just have to create a new variable called discount that will subtract both.\n",
    "\n",
    "# We end the exercise by printing the sentence and by returning the tuple requested.\n",
    "# We rounded the price to 2 decimal places.\n",
    "\n",
    "    total_price_before_discount=0\n",
    "    for game_key in games_purch:\n",
    "        total_price_before_discount+=prices[game_key]\n",
    "    discount=total_price_before_discount-total_price\n",
    "    print(f\"Dear customer, your order of {numb_games_purch} items has a total cost of {round(total_price,2)} euros, and a 15% discount was applied to {number_discounts} items.\")\n",
    "    return numb_games_purch,round(total_price,2),round(discount,2)"
   ]
  },
  {
   "cell_type": "code",
   "execution_count": 29,
   "metadata": {},
   "outputs": [],
   "source": [
    "stock = {\n",
    "    \n",
    "    \"234\":\"God of War\",\n",
    "    \"956\":\"Call of Duty: Modern Warfare 2\",\n",
    "    \"365\":\"Final Fantasy IX\",\n",
    "    \"827\":\"BioShock Infinite\",\n",
    "    \"106\":\"World of Goo\",\n",
    "    \"465\":\"Metal Gear Solid V: The Phantom Pain\",\n",
    "    \"622\":\"Portal 2\",\n",
    "    \"266\":\"The Last of Us\",\n",
    "    \"534\":\"The Legend of Zelda: Majora's Mask\",\n",
    "    \"884\":\"Halo 2\",\n",
    "    \"472\":\"Red Dead Redemption\",\n",
    "    \"123\":\"Grand Theft Auto: San Andreas\"\n",
    "    \n",
    "}\n",
    "\n",
    "prices = {\n",
    "    \n",
    "    \"234\":49.99,\n",
    "    \"956\":35.0,\n",
    "    \"365\":68.99,\n",
    "    \"827\":20.99,\n",
    "    \"106\":2.50,\n",
    "    \"465\":49.99,\n",
    "    \"622\":19.99,\n",
    "    \"266\":19.99,\n",
    "    \"534\":5.99,\n",
    "    \"884\":9.99,\n",
    "    \"472\":19.99,\n",
    "    \"123\":24.99\n",
    "    \n",
    "}"
   ]
  },
  {
   "cell_type": "code",
   "execution_count": 30,
   "metadata": {
    "scrolled": true
   },
   "outputs": [
    {
     "name": "stdout",
     "output_type": "stream",
     "text": [
      "Dear customer, your order of 7 items has a total cost of 188.2 euros, and a 15% discount was applied to 4 items.\n",
      "(7, 188.2, 21.74)\n",
      "Dear customer, your order of 4 items has a total cost of 108.96 euros, and a 15% discount was applied to 2 items.\n",
      "(4, 108.96, 6.0)\n",
      "Dear customer, your order of 2 items has a total cost of 67.48 euros, and a 15% discount was applied to 1 items.\n",
      "(2, 67.48, 7.5)\n",
      "Dear customer, your order of 12 items has a total cost of 308.9 euros, and a 15% discount was applied to 4 items.\n",
      "(12, 308.9, 19.5)\n",
      "Dear customer, your order of 6 items has a total cost of 167.8 euros, and a 15% discount was applied to 1 items.\n",
      "(6, 167.8, 3.15)\n",
      "Dear customer, your order of 11 items has a total cost of 279.12 euros, and a 15% discount was applied to 7 items.\n",
      "(11, 279.12, 24.29)\n",
      "Dear customer, your order of 8 items has a total cost of 224.34 euros, and a 15% discount was applied to 3 items.\n",
      "(8, 224.34, 17.1)\n",
      "Dear customer, your order of 10 items has a total cost of 266.05 euros, and a 15% discount was applied to 6 items.\n",
      "(10, 266.05, 27.37)\n",
      "Dear customer, your order of 2 items has a total cost of 25.48 euros, and a 15% discount was applied to 2 items.\n",
      "(2, 25.48, 4.5)\n",
      "Dear customer, your order of 5 items has a total cost of 148.11 euros, and a 15% discount was applied to 2 items.\n",
      "(5, 148.11, 13.35)\n"
     ]
    }
   ],
   "source": [
    "for num in range(10):\n",
    "    print(customerSim(stock,prices))"
   ]
  },
  {
   "cell_type": "markdown",
   "metadata": {},
   "source": [
    "## Exercise III - Map and Filter\n",
    "\n",
    "#### You can go to the documentation on: https://book.pythontips.com/en/latest/map_filter.html\n",
    "\n",
    "**Q**: Consider the list A declared below. Use the function map() to change the values in A by adding 1 to each value if it is even and subtracting 1 to it otherwise."
   ]
  },
  {
   "cell_type": "code",
   "execution_count": 31,
   "metadata": {},
   "outputs": [],
   "source": [
    "A = [460,3347,3044,490,699,1258,1804,973,2223,3416,2879,1058,2915,2422,351,1543,1020,208,643,795,3337,2585,471,2623,1077]"
   ]
  },
  {
   "cell_type": "code",
   "execution_count": 32,
   "metadata": {},
   "outputs": [
    {
     "name": "stdout",
     "output_type": "stream",
     "text": [
      "The requested list is the following: [461, 3346, 3045, 491, 698, 1259, 1805, 972, 2222, 3417, 2878, 1059, 2914, 2423, 350, 1542, 1021, 209, 642, 794, 3336, 2584, 470, 2622, 1076].\n"
     ]
    }
   ],
   "source": [
    "# The function map() takes two inputs a function and an iterable object.\n",
    "# To quickly create an anonymous function we can use a lambda function.\n",
    "# It can take any number of arguments, but can only have one expression.\n",
    "\n",
    "# In the first argument of the map() function we include the lambda function\n",
    "# that makes a number increase by 1 when it is even, and decrease by 1 otherwise\n",
    "# and in the second argument, we include the list A. The map function will apply the lambda function\n",
    "# to the iterable object A in the 2nd argument. We have to involve everything with a list() function.\n",
    "\n",
    "A = list(map(lambda i: i+1 if i%2==0 else i-1, A))\n",
    "print(f\"The requested list is the following: {A}.\")"
   ]
  },
  {
   "cell_type": "markdown",
   "metadata": {},
   "source": [
    "**Q:** Create a list B with the same size of A, and where each element is True if the associated value in list A is greater than 700, else is False. <br>\n",
    "Note: You should use the function map()"
   ]
  },
  {
   "cell_type": "code",
   "execution_count": 33,
   "metadata": {},
   "outputs": [
    {
     "name": "stdout",
     "output_type": "stream",
     "text": [
      "The requested list is the following: [False, True, True, False, False, True, True, True, True, True, True, True, True, True, False, True, True, False, False, True, True, True, False, True, True]\n"
     ]
    }
   ],
   "source": [
    "# Following the same reasoning we are going to use again the map() and\n",
    "# the lambda function. This time in the lambda function we apply a conditional\n",
    "# test that will check if each number of list A is bigger or smaller than\n",
    "# 700, if bigger it will return True and if smaller it will return False.\n",
    "\n",
    "B = list(map(lambda i: i>700, A))\n",
    "print(f\"The requested list is the following: {B}\")"
   ]
  },
  {
   "cell_type": "markdown",
   "metadata": {},
   "source": [
    "**Q**: Create a list L that contains the Logarithm of base 10 of each value in A. <br>\n",
    "Note: You should use the module math to compute the logarithm."
   ]
  },
  {
   "cell_type": "code",
   "execution_count": 34,
   "metadata": {},
   "outputs": [
    {
     "name": "stdout",
     "output_type": "stream",
     "text": [
      "The requested list is the following: [2.663700925389648, 3.5245259366263757, 3.4835872969688944, 2.6910814921229687, 2.843855422623161, 3.1000257301078626, 3.256477206241677, 2.9876662649262746, 3.346744054604849, 3.5336449787987627, 3.4590907896005865, 3.024895960107485, 3.4644895474339714, 3.384353414137506, 2.5440680443502757, 3.188084373714938, 3.0090257420869104, 2.3201462861110542, 2.807535028068853, 2.8998205024270964, 3.523226041965701, 3.4122925093230463, 2.6720978579357175, 3.4186326873540653, 3.0318122713303706].\n"
     ]
    }
   ],
   "source": [
    "# The math library from STL Python facilitate us regarding some mathematical\n",
    "# expression, being the logarithm of base 10 one of them. In this exercise\n",
    "# we already have the function created so we don't have to create any \n",
    "# lambda functions. We follow the same reasoning as before.\n",
    "\n",
    "import math\n",
    "L = list(map(math.log10,A))\n",
    "print(f\"The requested list is the following: {L}.\")"
   ]
  },
  {
   "cell_type": "markdown",
   "metadata": {},
   "source": [
    "**Q**: How many numbers in A are greater than 1000? <br>\n",
    "Note: You should use the function filter()"
   ]
  },
  {
   "cell_type": "code",
   "execution_count": 35,
   "metadata": {},
   "outputs": [
    {
     "name": "stdout",
     "output_type": "stream",
     "text": [
      "The requested list is the following: [3346, 3045, 1259, 1805, 2222, 3417, 2878, 1059, 2914, 2423, 1542, 1021, 3336, 2584, 2622, 1076].\n",
      "16 numbers are greater than 1000 in list A.\n"
     ]
    }
   ],
   "source": [
    "# In this exercise, instead of using the map function we are going\n",
    "# to use the filter function, which extracts elements from an iterable (list, tuple etc.)\n",
    "# for which a function returns True. It takes as 1st argument the conditional function\n",
    "# and as 2nd argument the iterable object. The rest of the reasoning is the same as\n",
    "# previously.\n",
    "\n",
    "\n",
    "F = list(filter(lambda i: i>1000,A))\n",
    "print(f\"The requested list is the following: {F}.\")\n",
    "print(f\"{len(F)} numbers are greater than 1000 in list A.\")"
   ]
  },
  {
   "cell_type": "markdown",
   "metadata": {},
   "source": [
    "Congratulations, it is done! <br>\n",
    "**Don't forget, if you have any questions related with the homework assignment leave a post in the Moodle Forum.**"
   ]
  },
  {
   "cell_type": "code",
   "execution_count": 36,
   "metadata": {},
   "outputs": [
    {
     "name": "stdout",
     "output_type": "stream",
     "text": [
      "Thank you very much!\n",
      "Duarte Girão, Miguel Ramos.\n"
     ]
    }
   ],
   "source": [
    "print(\"Thank you very much!\")\n",
    "print(\"Duarte Girão, Miguel Ramos.\")"
   ]
  }
 ],
 "metadata": {
  "kernelspec": {
   "display_name": "Python 3 (ipykernel)",
   "language": "python",
   "name": "python3"
  },
  "language_info": {
   "codemirror_mode": {
    "name": "ipython",
    "version": 3
   },
   "file_extension": ".py",
   "mimetype": "text/x-python",
   "name": "python",
   "nbconvert_exporter": "python",
   "pygments_lexer": "ipython3",
   "version": "3.9.13"
  }
 },
 "nbformat": 4,
 "nbformat_minor": 4
}
